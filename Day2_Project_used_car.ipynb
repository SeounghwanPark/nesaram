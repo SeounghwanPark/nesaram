{
 "cells": [
  {
   "cell_type": "code",
   "execution_count": 1,
   "id": "ce5e38d3",
   "metadata": {},
   "outputs": [],
   "source": [
    "import pandas as pd\n",
    "import numpy as np\n",
    "import seaborn as sns"
   ]
  },
  {
   "cell_type": "code",
   "execution_count": 3,
   "id": "5e4f8fe4",
   "metadata": {},
   "outputs": [],
   "source": [
    "car_df = pd.read_csv('../../data/cars.csv')"
   ]
  },
  {
   "cell_type": "code",
   "execution_count": 5,
   "id": "63f0fced",
   "metadata": {},
   "outputs": [],
   "source": [
    "brand_df = pd.read_csv('../../data/brand.csv')"
   ]
  },
  {
   "cell_type": "code",
   "execution_count": 6,
   "id": "5eb94965",
   "metadata": {},
   "outputs": [
    {
     "data": {
      "text/html": [
       "<div>\n",
       "<style scoped>\n",
       "    .dataframe tbody tr th:only-of-type {\n",
       "        vertical-align: middle;\n",
       "    }\n",
       "\n",
       "    .dataframe tbody tr th {\n",
       "        vertical-align: top;\n",
       "    }\n",
       "\n",
       "    .dataframe thead th {\n",
       "        text-align: right;\n",
       "    }\n",
       "</style>\n",
       "<table border=\"1\" class=\"dataframe\">\n",
       "  <thead>\n",
       "    <tr style=\"text-align: right;\">\n",
       "      <th></th>\n",
       "      <th>title</th>\n",
       "      <th>Price</th>\n",
       "      <th>Mileage(miles)</th>\n",
       "      <th>Registration_Year</th>\n",
       "      <th>Previous Owners</th>\n",
       "      <th>Fuel type</th>\n",
       "      <th>Body type</th>\n",
       "      <th>Engine</th>\n",
       "      <th>Gearbox</th>\n",
       "      <th>Doors</th>\n",
       "      <th>Seats</th>\n",
       "      <th>Emission Class</th>\n",
       "      <th>Service history</th>\n",
       "    </tr>\n",
       "  </thead>\n",
       "  <tbody>\n",
       "    <tr>\n",
       "      <th>0</th>\n",
       "      <td>SKODA FABIA</td>\n",
       "      <td>6900</td>\n",
       "      <td>70189</td>\n",
       "      <td>2016</td>\n",
       "      <td>3.0</td>\n",
       "      <td>Diesel</td>\n",
       "      <td>Hatchback</td>\n",
       "      <td>1.4L</td>\n",
       "      <td>Manual</td>\n",
       "      <td>5.0</td>\n",
       "      <td>5.0</td>\n",
       "      <td>Euro 6</td>\n",
       "      <td>NaN</td>\n",
       "    </tr>\n",
       "    <tr>\n",
       "      <th>1</th>\n",
       "      <td>VAUXHALL CORSA</td>\n",
       "      <td>1495</td>\n",
       "      <td>88585</td>\n",
       "      <td>2008</td>\n",
       "      <td>4.0</td>\n",
       "      <td>Petrol</td>\n",
       "      <td>Hatchback</td>\n",
       "      <td>1.2L</td>\n",
       "      <td>Manual</td>\n",
       "      <td>3.0</td>\n",
       "      <td>5.0</td>\n",
       "      <td>Euro 4</td>\n",
       "      <td>Full</td>\n",
       "    </tr>\n",
       "    <tr>\n",
       "      <th>2</th>\n",
       "      <td>HYUNDAI I30</td>\n",
       "      <td>949</td>\n",
       "      <td>137000</td>\n",
       "      <td>2011</td>\n",
       "      <td>NaN</td>\n",
       "      <td>Petrol</td>\n",
       "      <td>Hatchback</td>\n",
       "      <td>1.4L</td>\n",
       "      <td>Manual</td>\n",
       "      <td>5.0</td>\n",
       "      <td>5.0</td>\n",
       "      <td>Euro 5</td>\n",
       "      <td>NaN</td>\n",
       "    </tr>\n",
       "    <tr>\n",
       "      <th>3</th>\n",
       "      <td>MINI HATCH</td>\n",
       "      <td>2395</td>\n",
       "      <td>96731</td>\n",
       "      <td>2010</td>\n",
       "      <td>5.0</td>\n",
       "      <td>Petrol</td>\n",
       "      <td>Hatchback</td>\n",
       "      <td>1.4L</td>\n",
       "      <td>Manual</td>\n",
       "      <td>3.0</td>\n",
       "      <td>4.0</td>\n",
       "      <td>Euro 4</td>\n",
       "      <td>Full</td>\n",
       "    </tr>\n",
       "    <tr>\n",
       "      <th>4</th>\n",
       "      <td>VAUXHALL CORSA</td>\n",
       "      <td>1000</td>\n",
       "      <td>85000</td>\n",
       "      <td>2013</td>\n",
       "      <td>NaN</td>\n",
       "      <td>Diesel</td>\n",
       "      <td>Hatchback</td>\n",
       "      <td>1.3L</td>\n",
       "      <td>Manual</td>\n",
       "      <td>5.0</td>\n",
       "      <td>5.0</td>\n",
       "      <td>Euro 5</td>\n",
       "      <td>NaN</td>\n",
       "    </tr>\n",
       "  </tbody>\n",
       "</table>\n",
       "</div>"
      ],
      "text/plain": [
       "            title  Price  Mileage(miles)  Registration_Year  Previous Owners  \\\n",
       "0     SKODA FABIA   6900           70189               2016              3.0   \n",
       "1  VAUXHALL CORSA   1495           88585               2008              4.0   \n",
       "2     HYUNDAI I30    949          137000               2011              NaN   \n",
       "3      MINI HATCH   2395           96731               2010              5.0   \n",
       "4  VAUXHALL CORSA   1000           85000               2013              NaN   \n",
       "\n",
       "  Fuel type  Body type Engine Gearbox  Doors  Seats Emission Class  \\\n",
       "0    Diesel  Hatchback   1.4L  Manual    5.0    5.0         Euro 6   \n",
       "1    Petrol  Hatchback   1.2L  Manual    3.0    5.0         Euro 4   \n",
       "2    Petrol  Hatchback   1.4L  Manual    5.0    5.0         Euro 5   \n",
       "3    Petrol  Hatchback   1.4L  Manual    3.0    4.0         Euro 4   \n",
       "4    Diesel  Hatchback   1.3L  Manual    5.0    5.0         Euro 5   \n",
       "\n",
       "  Service history  \n",
       "0             NaN  \n",
       "1            Full  \n",
       "2             NaN  \n",
       "3            Full  \n",
       "4             NaN  "
      ]
     },
     "execution_count": 6,
     "metadata": {},
     "output_type": "execute_result"
    }
   ],
   "source": [
    "car_df.head()"
   ]
  },
  {
   "cell_type": "code",
   "execution_count": 7,
   "id": "b9e0908c",
   "metadata": {},
   "outputs": [
    {
     "data": {
      "text/html": [
       "<div>\n",
       "<style scoped>\n",
       "    .dataframe tbody tr th:only-of-type {\n",
       "        vertical-align: middle;\n",
       "    }\n",
       "\n",
       "    .dataframe tbody tr th {\n",
       "        vertical-align: top;\n",
       "    }\n",
       "\n",
       "    .dataframe thead th {\n",
       "        text-align: right;\n",
       "    }\n",
       "</style>\n",
       "<table border=\"1\" class=\"dataframe\">\n",
       "  <thead>\n",
       "    <tr style=\"text-align: right;\">\n",
       "      <th></th>\n",
       "      <th>title</th>\n",
       "      <th>country</th>\n",
       "    </tr>\n",
       "  </thead>\n",
       "  <tbody>\n",
       "    <tr>\n",
       "      <th>0</th>\n",
       "      <td>skoda</td>\n",
       "      <td>Czech Republic</td>\n",
       "    </tr>\n",
       "    <tr>\n",
       "      <th>1</th>\n",
       "      <td>vauxhall</td>\n",
       "      <td>United Kingdom</td>\n",
       "    </tr>\n",
       "    <tr>\n",
       "      <th>2</th>\n",
       "      <td>hyundai</td>\n",
       "      <td>South Korea</td>\n",
       "    </tr>\n",
       "    <tr>\n",
       "      <th>3</th>\n",
       "      <td>mini</td>\n",
       "      <td>United Kingdom</td>\n",
       "    </tr>\n",
       "    <tr>\n",
       "      <th>4</th>\n",
       "      <td>ford</td>\n",
       "      <td>United States</td>\n",
       "    </tr>\n",
       "  </tbody>\n",
       "</table>\n",
       "</div>"
      ],
      "text/plain": [
       "      title         country\n",
       "0     skoda  Czech Republic\n",
       "1  vauxhall  United Kingdom\n",
       "2   hyundai     South Korea\n",
       "3      mini  United Kingdom\n",
       "4      ford   United States"
      ]
     },
     "execution_count": 7,
     "metadata": {},
     "output_type": "execute_result"
    }
   ],
   "source": [
    "brand_df.head()"
   ]
  },
  {
   "cell_type": "code",
   "execution_count": 8,
   "id": "ef4e5e5e",
   "metadata": {},
   "outputs": [
    {
     "name": "stdout",
     "output_type": "stream",
     "text": [
      "<class 'pandas.core.frame.DataFrame'>\n",
      "RangeIndex: 3687 entries, 0 to 3686\n",
      "Data columns (total 13 columns):\n",
      " #   Column             Non-Null Count  Dtype  \n",
      "---  ------             --------------  -----  \n",
      " 0   title              3687 non-null   object \n",
      " 1   Price              3687 non-null   int64  \n",
      " 2   Mileage(miles)     3687 non-null   int64  \n",
      " 3   Registration_Year  3687 non-null   int64  \n",
      " 4   Previous Owners    2276 non-null   float64\n",
      " 5   Fuel type          3687 non-null   object \n",
      " 6   Body type          3687 non-null   object \n",
      " 7   Engine             3642 non-null   object \n",
      " 8   Gearbox            3687 non-null   object \n",
      " 9   Doors              3662 non-null   float64\n",
      " 10  Seats              3652 non-null   float64\n",
      " 11  Emission Class     3600 non-null   object \n",
      " 12  Service history    540 non-null    object \n",
      "dtypes: float64(3), int64(3), object(7)\n",
      "memory usage: 374.6+ KB\n"
     ]
    }
   ],
   "source": [
    "car_df.info()"
   ]
  },
  {
   "cell_type": "code",
   "execution_count": 9,
   "id": "aeb22529",
   "metadata": {},
   "outputs": [
    {
     "name": "stdout",
     "output_type": "stream",
     "text": [
      "<class 'pandas.core.frame.DataFrame'>\n",
      "RangeIndex: 48 entries, 0 to 47\n",
      "Data columns (total 2 columns):\n",
      " #   Column   Non-Null Count  Dtype \n",
      "---  ------   --------------  ----- \n",
      " 0   title    48 non-null     object\n",
      " 1   country  48 non-null     object\n",
      "dtypes: object(2)\n",
      "memory usage: 896.0+ bytes\n"
     ]
    }
   ],
   "source": [
    "brand_df.info()"
   ]
  },
  {
   "cell_type": "code",
   "execution_count": 10,
   "id": "9ad8307a",
   "metadata": {},
   "outputs": [],
   "source": [
    "car_df[\"Brand\"] = car_df[\"title\"].str.split().str[0]"
   ]
  },
  {
   "cell_type": "code",
   "execution_count": 11,
   "id": "7d7fcdc3",
   "metadata": {},
   "outputs": [],
   "source": [
    "merged_left = car_df.merge(brand_df, left_on=\"Brand\", right_on=\"title\", how=\"left\").drop(columns=[\"title_y\"])\n",
    "merged_left.rename(columns={\"title_x\": \"title\"}, inplace=True)"
   ]
  },
  {
   "cell_type": "code",
   "execution_count": 12,
   "id": "e703ca5d",
   "metadata": {},
   "outputs": [
    {
     "name": "stdout",
     "output_type": "stream",
     "text": [
      "               title  Price  Mileage(miles)  Registration_Year  \\\n",
      "0        SKODA FABIA   6900           70189               2016   \n",
      "1     VAUXHALL CORSA   1495           88585               2008   \n",
      "2        HYUNDAI I30    949          137000               2011   \n",
      "3         MINI HATCH   2395           96731               2010   \n",
      "4     VAUXHALL CORSA   1000           85000               2013   \n",
      "...              ...    ...             ...                ...   \n",
      "3682  RENAULT MEGANE   1395           76202               2006   \n",
      "3683         AUDI A4   6990          119000               2012   \n",
      "3684    BMW 3 SERIES   3995          139000               2013   \n",
      "3685    HONDA ACCORD   1390          179190               2007   \n",
      "3686  VAUXHALL CORSA   2000           82160               2013   \n",
      "\n",
      "      Previous Owners Fuel type  Body type Engine Gearbox  Doors  Seats  \\\n",
      "0                 3.0    Diesel  Hatchback   1.4L  Manual    5.0    5.0   \n",
      "1                 4.0    Petrol  Hatchback   1.2L  Manual    3.0    5.0   \n",
      "2                 NaN    Petrol  Hatchback   1.4L  Manual    5.0    5.0   \n",
      "3                 5.0    Petrol  Hatchback   1.4L  Manual    3.0    4.0   \n",
      "4                 NaN    Diesel  Hatchback   1.3L  Manual    5.0    5.0   \n",
      "...               ...       ...        ...    ...     ...    ...    ...   \n",
      "3682              4.0    Petrol  Hatchback   1.6L  Manual    5.0    5.0   \n",
      "3683              NaN    Petrol     Saloon   2.0L  Manual    4.0    5.0   \n",
      "3684              NaN    Diesel     Saloon   2.0L  Manual    4.0    5.0   \n",
      "3685              NaN    Diesel     Estate   2.2L  Manual    5.0    5.0   \n",
      "3686              7.0    Petrol  Hatchback   1.2L  Manual    5.0    5.0   \n",
      "\n",
      "     Emission Class Service history     Brand country  \n",
      "0            Euro 6             NaN     SKODA     NaN  \n",
      "1            Euro 4            Full  VAUXHALL     NaN  \n",
      "2            Euro 5             NaN   HYUNDAI     NaN  \n",
      "3            Euro 4            Full      MINI     NaN  \n",
      "4            Euro 5             NaN  VAUXHALL     NaN  \n",
      "...             ...             ...       ...     ...  \n",
      "3682         Euro 4             NaN   RENAULT     NaN  \n",
      "3683         Euro 5             NaN      AUDI     NaN  \n",
      "3684         Euro 5             NaN       BMW     NaN  \n",
      "3685         Euro 4            Full     HONDA     NaN  \n",
      "3686         Euro 5             NaN  VAUXHALL     NaN  \n",
      "\n",
      "[3687 rows x 15 columns]\n"
     ]
    }
   ],
   "source": [
    "print(merged_left)   # 1. cars.csv와 brand.csv의 데이터 합치기"
   ]
  },
  {
   "cell_type": "code",
   "execution_count": 14,
   "id": "41ba2473",
   "metadata": {},
   "outputs": [],
   "source": [
    "merged_inner = car_df.merge(brand_df, left_on=\"Brand\", right_on=\"title\", how=\"inner\").drop(columns=[\"title_y\"])\n",
    "merged_inner.rename(columns={\"title_x\": \"title\"}, inplace=True)"
   ]
  },
  {
   "cell_type": "code",
   "execution_count": 15,
   "id": "acc6cb0c",
   "metadata": {},
   "outputs": [
    {
     "name": "stdout",
     "output_type": "stream",
     "text": [
      "Empty DataFrame\n",
      "Columns: [title, Price, Mileage(miles), Registration_Year, Previous Owners, Fuel type, Body type, Engine, Gearbox, Doors, Seats, Emission Class, Service history, Brand, country]\n",
      "Index: []\n"
     ]
    }
   ],
   "source": [
    "print(merged_inner)"
   ]
  },
  {
   "cell_type": "code",
   "execution_count": 16,
   "id": "791f9728",
   "metadata": {},
   "outputs": [],
   "source": [
    "merged_outer = car_df.merge(brand_df, left_on=\"Brand\", right_on=\"title\", how=\"outer\").drop(columns=[\"title_y\"])\n",
    "merged_outer.rename(columns={\"title_x\": \"title\"}, inplace=True)"
   ]
  },
  {
   "cell_type": "code",
   "execution_count": 17,
   "id": "a7f3c4d8",
   "metadata": {},
   "outputs": [
    {
     "name": "stdout",
     "output_type": "stream",
     "text": [
      "            title   Price  Mileage(miles)  Registration_Year  Previous Owners  \\\n",
      "0     SKODA FABIA  6900.0         70189.0             2016.0              3.0   \n",
      "1     SKODA FABIA  6900.0         70189.0             2016.0              3.0   \n",
      "2     SKODA FABIA  1990.0        150000.0             2007.0              2.0   \n",
      "3     SKODA FABIA  1995.0         84000.0             2008.0              NaN   \n",
      "4     SKODA FABIA  2495.0        124138.0             2011.0              3.0   \n",
      "...           ...     ...             ...                ...              ...   \n",
      "3730          NaN     NaN             NaN                NaN              NaN   \n",
      "3731          NaN     NaN             NaN                NaN              NaN   \n",
      "3732          NaN     NaN             NaN                NaN              NaN   \n",
      "3733          NaN     NaN             NaN                NaN              NaN   \n",
      "3734          NaN     NaN             NaN                NaN              NaN   \n",
      "\n",
      "     Fuel type  Body type Engine    Gearbox  Doors  Seats Emission Class  \\\n",
      "0       Diesel  Hatchback   1.4L     Manual    5.0    5.0         Euro 6   \n",
      "1       Diesel  Hatchback   1.4L     Manual    5.0    5.0         Euro 6   \n",
      "2       Diesel  Hatchback   1.9L     Manual    5.0    5.0         Euro 4   \n",
      "3       Petrol  Hatchback   1.4L     Manual    5.0    5.0         Euro 4   \n",
      "4       Petrol  Hatchback   1.2L  Automatic    5.0    5.0         Euro 5   \n",
      "...        ...        ...    ...        ...    ...    ...            ...   \n",
      "3730       NaN        NaN    NaN        NaN    NaN    NaN            NaN   \n",
      "3731       NaN        NaN    NaN        NaN    NaN    NaN            NaN   \n",
      "3732       NaN        NaN    NaN        NaN    NaN    NaN            NaN   \n",
      "3733       NaN        NaN    NaN        NaN    NaN    NaN            NaN   \n",
      "3734       NaN        NaN    NaN        NaN    NaN    NaN            NaN   \n",
      "\n",
      "     Service history  Brand         country  \n",
      "0                NaN  SKODA             NaN  \n",
      "1                NaN  SKODA             NaN  \n",
      "2               Full  SKODA             NaN  \n",
      "3                NaN  SKODA             NaN  \n",
      "4                NaN  SKODA             NaN  \n",
      "...              ...    ...             ...  \n",
      "3730             NaN    NaN  United Kingdom  \n",
      "3731             NaN    NaN           Italy  \n",
      "3732             NaN    NaN     South Korea  \n",
      "3733             NaN    NaN  United Kingdom  \n",
      "3734             NaN    NaN           Japan  \n",
      "\n",
      "[3735 rows x 15 columns]\n"
     ]
    }
   ],
   "source": [
    "print(merged_outer)"
   ]
  },
  {
   "cell_type": "code",
   "execution_count": 18,
   "id": "0f4df5c3",
   "metadata": {},
   "outputs": [],
   "source": [
    "merged_right = car_df.merge(brand_df, left_on=\"Brand\", right_on=\"title\", how=\"right\").drop(columns=[\"title_y\"])\n",
    "merged_right.rename(columns={\"title_x\": \"title\"}, inplace=True)"
   ]
  },
  {
   "cell_type": "code",
   "execution_count": 19,
   "id": "b5e03e80",
   "metadata": {},
   "outputs": [
    {
     "name": "stdout",
     "output_type": "stream",
     "text": [
      "   title  Price  Mileage(miles)  Registration_Year  Previous Owners Fuel type  \\\n",
      "0    NaN    NaN             NaN                NaN              NaN       NaN   \n",
      "1    NaN    NaN             NaN                NaN              NaN       NaN   \n",
      "2    NaN    NaN             NaN                NaN              NaN       NaN   \n",
      "3    NaN    NaN             NaN                NaN              NaN       NaN   \n",
      "4    NaN    NaN             NaN                NaN              NaN       NaN   \n",
      "5    NaN    NaN             NaN                NaN              NaN       NaN   \n",
      "6    NaN    NaN             NaN                NaN              NaN       NaN   \n",
      "7    NaN    NaN             NaN                NaN              NaN       NaN   \n",
      "8    NaN    NaN             NaN                NaN              NaN       NaN   \n",
      "9    NaN    NaN             NaN                NaN              NaN       NaN   \n",
      "10   NaN    NaN             NaN                NaN              NaN       NaN   \n",
      "11   NaN    NaN             NaN                NaN              NaN       NaN   \n",
      "12   NaN    NaN             NaN                NaN              NaN       NaN   \n",
      "13   NaN    NaN             NaN                NaN              NaN       NaN   \n",
      "14   NaN    NaN             NaN                NaN              NaN       NaN   \n",
      "15   NaN    NaN             NaN                NaN              NaN       NaN   \n",
      "16   NaN    NaN             NaN                NaN              NaN       NaN   \n",
      "17   NaN    NaN             NaN                NaN              NaN       NaN   \n",
      "18   NaN    NaN             NaN                NaN              NaN       NaN   \n",
      "19   NaN    NaN             NaN                NaN              NaN       NaN   \n",
      "20   NaN    NaN             NaN                NaN              NaN       NaN   \n",
      "21   NaN    NaN             NaN                NaN              NaN       NaN   \n",
      "22   NaN    NaN             NaN                NaN              NaN       NaN   \n",
      "23   NaN    NaN             NaN                NaN              NaN       NaN   \n",
      "24   NaN    NaN             NaN                NaN              NaN       NaN   \n",
      "25   NaN    NaN             NaN                NaN              NaN       NaN   \n",
      "26   NaN    NaN             NaN                NaN              NaN       NaN   \n",
      "27   NaN    NaN             NaN                NaN              NaN       NaN   \n",
      "28   NaN    NaN             NaN                NaN              NaN       NaN   \n",
      "29   NaN    NaN             NaN                NaN              NaN       NaN   \n",
      "30   NaN    NaN             NaN                NaN              NaN       NaN   \n",
      "31   NaN    NaN             NaN                NaN              NaN       NaN   \n",
      "32   NaN    NaN             NaN                NaN              NaN       NaN   \n",
      "33   NaN    NaN             NaN                NaN              NaN       NaN   \n",
      "34   NaN    NaN             NaN                NaN              NaN       NaN   \n",
      "35   NaN    NaN             NaN                NaN              NaN       NaN   \n",
      "36   NaN    NaN             NaN                NaN              NaN       NaN   \n",
      "37   NaN    NaN             NaN                NaN              NaN       NaN   \n",
      "38   NaN    NaN             NaN                NaN              NaN       NaN   \n",
      "39   NaN    NaN             NaN                NaN              NaN       NaN   \n",
      "40   NaN    NaN             NaN                NaN              NaN       NaN   \n",
      "41   NaN    NaN             NaN                NaN              NaN       NaN   \n",
      "42   NaN    NaN             NaN                NaN              NaN       NaN   \n",
      "43   NaN    NaN             NaN                NaN              NaN       NaN   \n",
      "44   NaN    NaN             NaN                NaN              NaN       NaN   \n",
      "45   NaN    NaN             NaN                NaN              NaN       NaN   \n",
      "46   NaN    NaN             NaN                NaN              NaN       NaN   \n",
      "47   NaN    NaN             NaN                NaN              NaN       NaN   \n",
      "\n",
      "   Body type Engine Gearbox  Doors  Seats Emission Class Service history  \\\n",
      "0        NaN    NaN     NaN    NaN    NaN            NaN             NaN   \n",
      "1        NaN    NaN     NaN    NaN    NaN            NaN             NaN   \n",
      "2        NaN    NaN     NaN    NaN    NaN            NaN             NaN   \n",
      "3        NaN    NaN     NaN    NaN    NaN            NaN             NaN   \n",
      "4        NaN    NaN     NaN    NaN    NaN            NaN             NaN   \n",
      "5        NaN    NaN     NaN    NaN    NaN            NaN             NaN   \n",
      "6        NaN    NaN     NaN    NaN    NaN            NaN             NaN   \n",
      "7        NaN    NaN     NaN    NaN    NaN            NaN             NaN   \n",
      "8        NaN    NaN     NaN    NaN    NaN            NaN             NaN   \n",
      "9        NaN    NaN     NaN    NaN    NaN            NaN             NaN   \n",
      "10       NaN    NaN     NaN    NaN    NaN            NaN             NaN   \n",
      "11       NaN    NaN     NaN    NaN    NaN            NaN             NaN   \n",
      "12       NaN    NaN     NaN    NaN    NaN            NaN             NaN   \n",
      "13       NaN    NaN     NaN    NaN    NaN            NaN             NaN   \n",
      "14       NaN    NaN     NaN    NaN    NaN            NaN             NaN   \n",
      "15       NaN    NaN     NaN    NaN    NaN            NaN             NaN   \n",
      "16       NaN    NaN     NaN    NaN    NaN            NaN             NaN   \n",
      "17       NaN    NaN     NaN    NaN    NaN            NaN             NaN   \n",
      "18       NaN    NaN     NaN    NaN    NaN            NaN             NaN   \n",
      "19       NaN    NaN     NaN    NaN    NaN            NaN             NaN   \n",
      "20       NaN    NaN     NaN    NaN    NaN            NaN             NaN   \n",
      "21       NaN    NaN     NaN    NaN    NaN            NaN             NaN   \n",
      "22       NaN    NaN     NaN    NaN    NaN            NaN             NaN   \n",
      "23       NaN    NaN     NaN    NaN    NaN            NaN             NaN   \n",
      "24       NaN    NaN     NaN    NaN    NaN            NaN             NaN   \n",
      "25       NaN    NaN     NaN    NaN    NaN            NaN             NaN   \n",
      "26       NaN    NaN     NaN    NaN    NaN            NaN             NaN   \n",
      "27       NaN    NaN     NaN    NaN    NaN            NaN             NaN   \n",
      "28       NaN    NaN     NaN    NaN    NaN            NaN             NaN   \n",
      "29       NaN    NaN     NaN    NaN    NaN            NaN             NaN   \n",
      "30       NaN    NaN     NaN    NaN    NaN            NaN             NaN   \n",
      "31       NaN    NaN     NaN    NaN    NaN            NaN             NaN   \n",
      "32       NaN    NaN     NaN    NaN    NaN            NaN             NaN   \n",
      "33       NaN    NaN     NaN    NaN    NaN            NaN             NaN   \n",
      "34       NaN    NaN     NaN    NaN    NaN            NaN             NaN   \n",
      "35       NaN    NaN     NaN    NaN    NaN            NaN             NaN   \n",
      "36       NaN    NaN     NaN    NaN    NaN            NaN             NaN   \n",
      "37       NaN    NaN     NaN    NaN    NaN            NaN             NaN   \n",
      "38       NaN    NaN     NaN    NaN    NaN            NaN             NaN   \n",
      "39       NaN    NaN     NaN    NaN    NaN            NaN             NaN   \n",
      "40       NaN    NaN     NaN    NaN    NaN            NaN             NaN   \n",
      "41       NaN    NaN     NaN    NaN    NaN            NaN             NaN   \n",
      "42       NaN    NaN     NaN    NaN    NaN            NaN             NaN   \n",
      "43       NaN    NaN     NaN    NaN    NaN            NaN             NaN   \n",
      "44       NaN    NaN     NaN    NaN    NaN            NaN             NaN   \n",
      "45       NaN    NaN     NaN    NaN    NaN            NaN             NaN   \n",
      "46       NaN    NaN     NaN    NaN    NaN            NaN             NaN   \n",
      "47       NaN    NaN     NaN    NaN    NaN            NaN             NaN   \n",
      "\n",
      "   Brand         country  \n",
      "0    NaN  Czech Republic  \n",
      "1    NaN  United Kingdom  \n",
      "2    NaN     South Korea  \n",
      "3    NaN  United Kingdom  \n",
      "4    NaN   United States  \n",
      "5    NaN          Sweden  \n",
      "6    NaN          France  \n",
      "7    NaN         Germany  \n",
      "8    NaN          France  \n",
      "9    NaN         Germany  \n",
      "10   NaN           Japan  \n",
      "11   NaN          Sweden  \n",
      "12   NaN         Germany  \n",
      "13   NaN           Japan  \n",
      "14   NaN  United Kingdom  \n",
      "15   NaN           Japan  \n",
      "16   NaN           Spain  \n",
      "17   NaN           Japan  \n",
      "18   NaN           Italy  \n",
      "19   NaN          France  \n",
      "20   NaN     South Korea  \n",
      "21   NaN        Malaysia  \n",
      "22   NaN           Italy  \n",
      "23   NaN         Germany  \n",
      "24   NaN           Japan  \n",
      "25   NaN           Japan  \n",
      "26   NaN  United Kingdom  \n",
      "27   NaN   United States  \n",
      "28   NaN           Japan  \n",
      "29   NaN         Romania  \n",
      "30   NaN           Japan  \n",
      "31   NaN   United States  \n",
      "32   NaN  United Kingdom  \n",
      "33   NaN   United States  \n",
      "34   NaN  United Kingdom  \n",
      "35   NaN          France  \n",
      "36   NaN     South Korea  \n",
      "37   NaN   United States  \n",
      "38   NaN         Germany  \n",
      "39   NaN           Japan  \n",
      "40   NaN           Japan  \n",
      "41   NaN           Italy  \n",
      "42   NaN         Germany  \n",
      "43   NaN  United Kingdom  \n",
      "44   NaN           Italy  \n",
      "45   NaN     South Korea  \n",
      "46   NaN  United Kingdom  \n",
      "47   NaN           Japan  \n"
     ]
    }
   ],
   "source": [
    "print(merged_right)"
   ]
  },
  {
   "cell_type": "code",
   "execution_count": 20,
   "id": "01c06c64",
   "metadata": {},
   "outputs": [
    {
     "name": "stdout",
     "output_type": "stream",
     "text": [
      "Left Join: (3687, 15)\n"
     ]
    }
   ],
   "source": [
    "print(\"Left Join:\", merged_left.shape)"
   ]
  },
  {
   "cell_type": "code",
   "execution_count": 21,
   "id": "272f69bb",
   "metadata": {},
   "outputs": [
    {
     "name": "stdout",
     "output_type": "stream",
     "text": [
      "Inner Join: (0, 15)\n"
     ]
    }
   ],
   "source": [
    "print(\"Inner Join:\", merged_inner.shape)"
   ]
  },
  {
   "cell_type": "code",
   "execution_count": 22,
   "id": "cb235450",
   "metadata": {},
   "outputs": [
    {
     "name": "stdout",
     "output_type": "stream",
     "text": [
      "Outer Join: (3735, 15)\n",
      "Right Join: (48, 15)\n"
     ]
    }
   ],
   "source": [
    "print(\"Outer Join:\", merged_outer.shape)\n",
    "print(\"Right Join:\", merged_right.shape)"
   ]
  },
  {
   "cell_type": "code",
   "execution_count": 23,
   "id": "17b8c912",
   "metadata": {},
   "outputs": [
    {
     "name": "stdout",
     "output_type": "stream",
     "text": [
      "               title  Price  Mileage(miles)  Registration_Year  \\\n",
      "0        SKODA FABIA   6900           70189               2016   \n",
      "1     VAUXHALL CORSA   1495           88585               2008   \n",
      "2        HYUNDAI I30    949          137000               2011   \n",
      "3         MINI HATCH   2395           96731               2010   \n",
      "4     VAUXHALL CORSA   1000           85000               2013   \n",
      "...              ...    ...             ...                ...   \n",
      "3682  RENAULT MEGANE   1395           76202               2006   \n",
      "3683         AUDI A4   6990          119000               2012   \n",
      "3684    BMW 3 SERIES   3995          139000               2013   \n",
      "3685    HONDA ACCORD   1390          179190               2007   \n",
      "3686  VAUXHALL CORSA   2000           82160               2013   \n",
      "\n",
      "      Previous Owners Fuel type  Body type Engine Gearbox  Doors  Seats  \\\n",
      "0                 3.0    Diesel  Hatchback   1.4L  Manual    5.0    5.0   \n",
      "1                 4.0    Petrol  Hatchback   1.2L  Manual    3.0    5.0   \n",
      "2                 NaN    Petrol  Hatchback   1.4L  Manual    5.0    5.0   \n",
      "3                 5.0    Petrol  Hatchback   1.4L  Manual    3.0    4.0   \n",
      "4                 NaN    Diesel  Hatchback   1.3L  Manual    5.0    5.0   \n",
      "...               ...       ...        ...    ...     ...    ...    ...   \n",
      "3682              4.0    Petrol  Hatchback   1.6L  Manual    5.0    5.0   \n",
      "3683              NaN    Petrol     Saloon   2.0L  Manual    4.0    5.0   \n",
      "3684              NaN    Diesel     Saloon   2.0L  Manual    4.0    5.0   \n",
      "3685              NaN    Diesel     Estate   2.2L  Manual    5.0    5.0   \n",
      "3686              7.0    Petrol  Hatchback   1.2L  Manual    5.0    5.0   \n",
      "\n",
      "     Emission Class Service history     Brand country  \n",
      "0            Euro 6             NaN     SKODA     NaN  \n",
      "1            Euro 4            Full  VAUXHALL     NaN  \n",
      "2            Euro 5             NaN   HYUNDAI     NaN  \n",
      "3            Euro 4            Full      MINI     NaN  \n",
      "4            Euro 5             NaN  VAUXHALL     NaN  \n",
      "...             ...             ...       ...     ...  \n",
      "3682         Euro 4             NaN   RENAULT     NaN  \n",
      "3683         Euro 5             NaN      AUDI     NaN  \n",
      "3684         Euro 5             NaN       BMW     NaN  \n",
      "3685         Euro 4            Full     HONDA     NaN  \n",
      "3686         Euro 5             NaN  VAUXHALL     NaN  \n",
      "\n",
      "[3687 rows x 15 columns]\n"
     ]
    }
   ],
   "source": [
    "print(merged_left)"
   ]
  },
  {
   "cell_type": "code",
   "execution_count": 24,
   "id": "4fcf2741",
   "metadata": {},
   "outputs": [],
   "source": [
    "car_df[\"Brand\"] = car_df[\"title\"].str.split().str[0].str.upper()"
   ]
  },
  {
   "cell_type": "code",
   "execution_count": 25,
   "id": "54ff85ad",
   "metadata": {},
   "outputs": [
    {
     "name": "stdout",
     "output_type": "stream",
     "text": [
      "            title     Brand\n",
      "0     SKODA FABIA     SKODA\n",
      "1  VAUXHALL CORSA  VAUXHALL\n",
      "2     HYUNDAI I30   HYUNDAI\n",
      "3      MINI HATCH      MINI\n",
      "4  VAUXHALL CORSA  VAUXHALL\n",
      "5   HYUNDAI COUPE   HYUNDAI\n",
      "6      FORD FOCUS      FORD\n",
      "7  VAUXHALL CORSA  VAUXHALL\n",
      "8       VOLVO 740     VOLVO\n",
      "9     PEUGEOT 207   PEUGEOT\n"
     ]
    }
   ],
   "source": [
    "print(car_df[[\"title\", \"Brand\"]].head(10))"
   ]
  },
  {
   "cell_type": "code",
   "execution_count": 26,
   "id": "77b16629",
   "metadata": {},
   "outputs": [],
   "source": [
    "unique_engines = car_df[\"Engine\"].unique()"
   ]
  },
  {
   "cell_type": "code",
   "execution_count": 27,
   "id": "b72f5704",
   "metadata": {},
   "outputs": [
    {
     "name": "stdout",
     "output_type": "stream",
     "text": [
      "['1.4L' '1.2L' '1.3L' '2.0L' '1.6L' '2.3L' '1.8L' '1.0L' '3.0L' '1.5L'\n",
      " '1.9L' '2.4L' '2.2L' '3.5L' '3.2L' '2.5L' '1.1L' '3.1L' '3.7L' '2.6L'\n",
      " '2.1L' '2.8L' '5.0L' '0.8L' '2.7L' '1.7L' '0.9L' '4.2L' nan '4.4L' '4.3L'\n",
      " '3.3L' '5.5L' '4.8L' '6.3L']\n"
     ]
    }
   ],
   "source": [
    "print(unique_engines)"
   ]
  },
  {
   "cell_type": "code",
   "execution_count": 28,
   "id": "05537379",
   "metadata": {},
   "outputs": [
    {
     "name": "stdout",
     "output_type": "stream",
     "text": [
      "['Euro 6' 'Euro 4' 'Euro 5' nan 'Euro 3' 'Euro 2' 'Euro 1']\n"
     ]
    }
   ],
   "source": [
    "unique_emission_classes = car_df[\"Emission Class\"].unique()\n",
    "print(unique_emission_classes)"
   ]
  },
  {
   "cell_type": "code",
   "execution_count": 29,
   "id": "285d7bc0",
   "metadata": {},
   "outputs": [],
   "source": [
    "from sklearn.preprocessing import LabelEncoder    \n",
    "# LabelEncoder\n",
    "le_engine = LabelEncoder()\n",
    "le_emission = LabelEncoder()\n",
    "# Engine과 Emission Class 변수를 숫자로 변환     #2. 카테고리형 변수를 숫자 형태로 변환하기\n",
    "car_df[\"Engine_Encoded\"] = le_engine.fit_transform(car_df[\"Engine\"].astype(str))Emission_Class_Encoded\n",
    "car_df[\"Emission_Class_Encoded\"] = le_emission.fit_transform(car_df[\"Emission Class\"].astype(str))"
   ]
  },
  {
   "cell_type": "code",
   "execution_count": 30,
   "id": "12d76a41",
   "metadata": {},
   "outputs": [
    {
     "name": "stdout",
     "output_type": "stream",
     "text": [
      "  Engine  Engine_Encoded Emission Class  Emission_Class_Encoded\n",
      "0   1.4L               6         Euro 6                       5\n",
      "1   1.2L               4         Euro 4                       3\n",
      "2   1.4L               6         Euro 5                       4\n",
      "3   1.4L               6         Euro 4                       3\n",
      "4   1.3L               5         Euro 5                       4\n",
      "5   2.0L              12         Euro 4                       3\n",
      "6   1.6L               8         Euro 4                       3\n",
      "7   1.2L               4         Euro 4                       3\n",
      "8   2.3L              15            NaN                       6\n",
      "9   1.6L               8         Euro 4                       3\n"
     ]
    }
   ],
   "source": [
    "print(car_df[[\"Engine\", \"Engine_Encoded\", \"Emission Class\", \"Emission_Class_Encoded\"]].head(10))"
   ]
  },
  {
   "cell_type": "code",
   "execution_count": 31,
   "id": "af0de25b",
   "metadata": {},
   "outputs": [
    {
     "name": "stdout",
     "output_type": "stream",
     "text": [
      "     Engine  Engine_Encoded Emission Class  Emission_Class_Encoded\n",
      "3677   2.7L              19            NaN                       6\n",
      "3678   3.7L              26         Euro 3                       2\n",
      "3679   2.2L              14         Euro 2                       1\n",
      "3680   1.4L               6         Euro 4                       3\n",
      "3681   1.6L               8         Euro 4                       3\n",
      "3682   1.6L               8         Euro 4                       3\n",
      "3683   2.0L              12         Euro 5                       4\n",
      "3684   2.0L              12         Euro 5                       4\n",
      "3685   2.2L              14         Euro 4                       3\n",
      "3686   1.2L               4         Euro 5                       4\n"
     ]
    }
   ],
   "source": [
    "print(car_df[[\"Engine\", \"Engine_Encoded\", \"Emission Class\", \"Emission_Class_Encoded\"]].tail(10))"
   ]
  },
  {
   "cell_type": "code",
   "execution_count": 32,
   "id": "3f91becd",
   "metadata": {},
   "outputs": [
    {
     "name": "stdout",
     "output_type": "stream",
     "text": [
      "<class 'pandas.core.frame.DataFrame'>\n",
      "Int64Index: 3599 entries, 0 to 3686\n",
      "Data columns (total 16 columns):\n",
      " #   Column                  Non-Null Count  Dtype  \n",
      "---  ------                  --------------  -----  \n",
      " 0   title                   3599 non-null   object \n",
      " 1   Price                   3599 non-null   int64  \n",
      " 2   Mileage(miles)          3599 non-null   int64  \n",
      " 3   Registration_Year       3599 non-null   int64  \n",
      " 4   Previous Owners         2243 non-null   float64\n",
      " 5   Fuel type               3599 non-null   object \n",
      " 6   Body type               3599 non-null   object \n",
      " 7   Engine                  3599 non-null   object \n",
      " 8   Gearbox                 3599 non-null   object \n",
      " 9   Doors                   3599 non-null   float64\n",
      " 10  Seats                   3593 non-null   float64\n",
      " 11  Emission Class          3599 non-null   object \n",
      " 12  Service history         534 non-null    object \n",
      " 13  Brand                   3599 non-null   object \n",
      " 14  Engine_Encoded          3599 non-null   int64  \n",
      " 15  Emission_Class_Encoded  3599 non-null   int64  \n",
      "dtypes: float64(3), int64(5), object(8)\n",
      "memory usage: 478.0+ KB\n",
      "None\n"
     ]
    }
   ],
   "source": [
    "new_car_df = car_df.dropna(subset=[\"Engine\", \"Emission Class\"])  #NaN있는 행을 삭제후 new_car_df에저장\n",
    "print(new_car_df.info())"
   ]
  },
  {
   "cell_type": "code",
   "execution_count": 33,
   "id": "078067a4",
   "metadata": {},
   "outputs": [
    {
     "name": "stdout",
     "output_type": "stream",
     "text": [
      "     Engine  Engine_Encoded Emission Class  Emission_Class_Encoded\n",
      "3676   1.6L               8         Euro 6                       5\n",
      "3678   3.7L              26         Euro 3                       2\n",
      "3679   2.2L              14         Euro 2                       1\n",
      "3680   1.4L               6         Euro 4                       3\n",
      "3681   1.6L               8         Euro 4                       3\n",
      "3682   1.6L               8         Euro 4                       3\n",
      "3683   2.0L              12         Euro 5                       4\n",
      "3684   2.0L              12         Euro 5                       4\n",
      "3685   2.2L              14         Euro 4                       3\n",
      "3686   1.2L               4         Euro 5                       4\n"
     ]
    }
   ],
   "source": [
    "print(new_car_df[[\"Engine\", \"Engine_Encoded\", \"Emission Class\", \"Emission_Class_Encoded\"]].tail(10))"
   ]
  },
  {
   "cell_type": "code",
   "execution_count": 34,
   "id": "c8992e42",
   "metadata": {},
   "outputs": [
    {
     "name": "stdout",
     "output_type": "stream",
     "text": [
      "   Engine  Engine_Encoded Emission Class  Emission_Class_Encoded\n",
      "0    1.4L               6         Euro 6                       5\n",
      "1    1.2L               4         Euro 4                       3\n",
      "2    1.4L               6         Euro 5                       4\n",
      "3    1.4L               6         Euro 4                       3\n",
      "4    1.3L               5         Euro 5                       4\n",
      "5    2.0L              12         Euro 4                       3\n",
      "6    1.6L               8         Euro 4                       3\n",
      "7    1.2L               4         Euro 4                       3\n",
      "9    1.6L               8         Euro 4                       3\n",
      "10   1.6L               8         Euro 4                       3\n"
     ]
    }
   ],
   "source": [
    "print(new_car_df[[\"Engine\", \"Engine_Encoded\", \"Emission Class\", \"Emission_Class_Encoded\"]].head(10))"
   ]
  },
  {
   "cell_type": "code",
   "execution_count": 35,
   "id": "1181a9f7",
   "metadata": {},
   "outputs": [
    {
     "name": "stdout",
     "output_type": "stream",
     "text": [
      "<class 'pandas.core.frame.DataFrame'>\n",
      "RangeIndex: 3687 entries, 0 to 3686\n",
      "Data columns (total 16 columns):\n",
      " #   Column                  Non-Null Count  Dtype  \n",
      "---  ------                  --------------  -----  \n",
      " 0   title                   3687 non-null   object \n",
      " 1   Price                   3687 non-null   int64  \n",
      " 2   Mileage(miles)          3687 non-null   int64  \n",
      " 3   Registration_Year       3687 non-null   int64  \n",
      " 4   Previous Owners         2276 non-null   float64\n",
      " 5   Fuel type               3687 non-null   object \n",
      " 6   Body type               3687 non-null   object \n",
      " 7   Engine                  3642 non-null   object \n",
      " 8   Gearbox                 3687 non-null   object \n",
      " 9   Doors                   3662 non-null   float64\n",
      " 10  Seats                   3652 non-null   float64\n",
      " 11  Emission Class          3600 non-null   object \n",
      " 12  Service history         540 non-null    object \n",
      " 13  Brand                   3687 non-null   object \n",
      " 14  Engine_Encoded          3687 non-null   int64  \n",
      " 15  Emission_Class_Encoded  3687 non-null   int64  \n",
      "dtypes: float64(3), int64(5), object(8)\n",
      "memory usage: 461.0+ KB\n",
      "None\n"
     ]
    }
   ],
   "source": [
    "print(car_df.info())"
   ]
  },
  {
   "cell_type": "code",
   "execution_count": 36,
   "id": "960fb157",
   "metadata": {},
   "outputs": [],
   "source": [
    "car_df[\"Engine_Encoded\"] = car_df[\"Engine\"].str.replace(\"L\", \"\", regex=True).astype(float)"
   ]
  },
  {
   "cell_type": "code",
   "execution_count": 37,
   "id": "4b4b4352",
   "metadata": {},
   "outputs": [],
   "source": [
    "car_df[\"Emission_Class_Encoded\"] = car_df[\"Emission Class\"].str.replace(\"Euro \", \"\", regex=True).astype(float)"
   ]
  },
  {
   "cell_type": "code",
   "execution_count": 38,
   "id": "9c6ebdc8",
   "metadata": {},
   "outputs": [
    {
     "name": "stdout",
     "output_type": "stream",
     "text": [
      "  Engine  Engine_Encoded Emission Class  Emission_Class_Encoded\n",
      "0   1.4L             1.4         Euro 6                     6.0\n",
      "1   1.2L             1.2         Euro 4                     4.0\n",
      "2   1.4L             1.4         Euro 5                     5.0\n",
      "3   1.4L             1.4         Euro 4                     4.0\n",
      "4   1.3L             1.3         Euro 5                     5.0\n",
      "5   2.0L             2.0         Euro 4                     4.0\n",
      "6   1.6L             1.6         Euro 4                     4.0\n",
      "7   1.2L             1.2         Euro 4                     4.0\n",
      "8   2.3L             2.3            NaN                     NaN\n",
      "9   1.6L             1.6         Euro 4                     4.0\n"
     ]
    }
   ],
   "source": [
    "print(car_df[[\"Engine\", \"Engine_Encoded\", \"Emission Class\", \"Emission_Class_Encoded\"]].head(10))"
   ]
  },
  {
   "cell_type": "code",
   "execution_count": 39,
   "id": "901a76d3",
   "metadata": {},
   "outputs": [
    {
     "name": "stdout",
     "output_type": "stream",
     "text": [
      "     Engine  Engine_Encoded Emission Class  Emission_Class_Encoded\n",
      "3677   2.7L             2.7            NaN                     NaN\n",
      "3678   3.7L             3.7         Euro 3                     3.0\n",
      "3679   2.2L             2.2         Euro 2                     2.0\n",
      "3680   1.4L             1.4         Euro 4                     4.0\n",
      "3681   1.6L             1.6         Euro 4                     4.0\n",
      "3682   1.6L             1.6         Euro 4                     4.0\n",
      "3683   2.0L             2.0         Euro 5                     5.0\n",
      "3684   2.0L             2.0         Euro 5                     5.0\n",
      "3685   2.2L             2.2         Euro 4                     4.0\n",
      "3686   1.2L             1.2         Euro 5                     5.0\n"
     ]
    }
   ],
   "source": [
    "print(car_df[[\"Engine\", \"Engine_Encoded\", \"Emission Class\", \"Emission_Class_Encoded\"]].tail(10))"
   ]
  },
  {
   "cell_type": "code",
   "execution_count": 40,
   "id": "d0f3efa1",
   "metadata": {},
   "outputs": [],
   "source": [
    "renew_car_df = car_df.dropna(subset=[\"Engine_Encoded\", \"Emission_Class_Encoded\"])    #null값의 행 삭제 하여 renew_car_df에 저장"
   ]
  },
  {
   "cell_type": "code",
   "execution_count": 41,
   "id": "7f6d7b71",
   "metadata": {},
   "outputs": [
    {
     "name": "stdout",
     "output_type": "stream",
     "text": [
      "<class 'pandas.core.frame.DataFrame'>\n",
      "Int64Index: 3599 entries, 0 to 3686\n",
      "Data columns (total 16 columns):\n",
      " #   Column                  Non-Null Count  Dtype  \n",
      "---  ------                  --------------  -----  \n",
      " 0   title                   3599 non-null   object \n",
      " 1   Price                   3599 non-null   int64  \n",
      " 2   Mileage(miles)          3599 non-null   int64  \n",
      " 3   Registration_Year       3599 non-null   int64  \n",
      " 4   Previous Owners         2243 non-null   float64\n",
      " 5   Fuel type               3599 non-null   object \n",
      " 6   Body type               3599 non-null   object \n",
      " 7   Engine                  3599 non-null   object \n",
      " 8   Gearbox                 3599 non-null   object \n",
      " 9   Doors                   3599 non-null   float64\n",
      " 10  Seats                   3593 non-null   float64\n",
      " 11  Emission Class          3599 non-null   object \n",
      " 12  Service history         534 non-null    object \n",
      " 13  Brand                   3599 non-null   object \n",
      " 14  Engine_Encoded          3599 non-null   float64\n",
      " 15  Emission_Class_Encoded  3599 non-null   float64\n",
      "dtypes: float64(5), int64(3), object(8)\n",
      "memory usage: 478.0+ KB\n",
      "None\n"
     ]
    }
   ],
   "source": [
    "print(renew_car_df.info())"
   ]
  },
  {
   "cell_type": "code",
   "execution_count": 42,
   "id": "cc585d31",
   "metadata": {},
   "outputs": [],
   "source": [
    "import matplotlib.pyplot as plt\n",
    "import seaborn as sns"
   ]
  },
  {
   "cell_type": "code",
   "execution_count": 43,
   "id": "779493bc",
   "metadata": {},
   "outputs": [
    {
     "data": {
      "text/html": [
       "<div>\n",
       "<style scoped>\n",
       "    .dataframe tbody tr th:only-of-type {\n",
       "        vertical-align: middle;\n",
       "    }\n",
       "\n",
       "    .dataframe tbody tr th {\n",
       "        vertical-align: top;\n",
       "    }\n",
       "\n",
       "    .dataframe thead th {\n",
       "        text-align: right;\n",
       "    }\n",
       "</style>\n",
       "<table border=\"1\" class=\"dataframe\">\n",
       "  <thead>\n",
       "    <tr style=\"text-align: right;\">\n",
       "      <th></th>\n",
       "      <th>Price</th>\n",
       "      <th>Mileage(miles)</th>\n",
       "      <th>Registration_Year</th>\n",
       "      <th>Previous Owners</th>\n",
       "      <th>Doors</th>\n",
       "      <th>Seats</th>\n",
       "      <th>Engine_Encoded</th>\n",
       "      <th>Emission_Class_Encoded</th>\n",
       "    </tr>\n",
       "  </thead>\n",
       "  <tbody>\n",
       "    <tr>\n",
       "      <th>count</th>\n",
       "      <td>3599.000000</td>\n",
       "      <td>3.599000e+03</td>\n",
       "      <td>3599.000000</td>\n",
       "      <td>2243.000000</td>\n",
       "      <td>3599.000000</td>\n",
       "      <td>3593.000000</td>\n",
       "      <td>3599.000000</td>\n",
       "      <td>3599.000000</td>\n",
       "    </tr>\n",
       "    <tr>\n",
       "      <th>mean</th>\n",
       "      <td>5789.254515</td>\n",
       "      <td>8.152794e+04</td>\n",
       "      <td>2011.930258</td>\n",
       "      <td>2.807847</td>\n",
       "      <td>4.316755</td>\n",
       "      <td>4.898692</td>\n",
       "      <td>1.603779</td>\n",
       "      <td>4.909975</td>\n",
       "    </tr>\n",
       "    <tr>\n",
       "      <th>std</th>\n",
       "      <td>4512.333738</td>\n",
       "      <td>3.956275e+04</td>\n",
       "      <td>4.778109</td>\n",
       "      <td>1.543335</td>\n",
       "      <td>0.988103</td>\n",
       "      <td>0.575368</td>\n",
       "      <td>0.485650</td>\n",
       "      <td>0.910813</td>\n",
       "    </tr>\n",
       "    <tr>\n",
       "      <th>min</th>\n",
       "      <td>400.000000</td>\n",
       "      <td>1.000000e+00</td>\n",
       "      <td>1992.000000</td>\n",
       "      <td>1.000000</td>\n",
       "      <td>2.000000</td>\n",
       "      <td>2.000000</td>\n",
       "      <td>0.800000</td>\n",
       "      <td>1.000000</td>\n",
       "    </tr>\n",
       "    <tr>\n",
       "      <th>25%</th>\n",
       "      <td>2490.000000</td>\n",
       "      <td>5.698400e+04</td>\n",
       "      <td>2008.000000</td>\n",
       "      <td>2.000000</td>\n",
       "      <td>3.000000</td>\n",
       "      <td>5.000000</td>\n",
       "      <td>1.300000</td>\n",
       "      <td>4.000000</td>\n",
       "    </tr>\n",
       "    <tr>\n",
       "      <th>50%</th>\n",
       "      <td>3999.000000</td>\n",
       "      <td>8.000000e+04</td>\n",
       "      <td>2012.000000</td>\n",
       "      <td>3.000000</td>\n",
       "      <td>5.000000</td>\n",
       "      <td>5.000000</td>\n",
       "      <td>1.600000</td>\n",
       "      <td>5.000000</td>\n",
       "    </tr>\n",
       "    <tr>\n",
       "      <th>75%</th>\n",
       "      <td>7999.000000</td>\n",
       "      <td>1.032000e+05</td>\n",
       "      <td>2016.000000</td>\n",
       "      <td>4.000000</td>\n",
       "      <td>5.000000</td>\n",
       "      <td>5.000000</td>\n",
       "      <td>1.900000</td>\n",
       "      <td>6.000000</td>\n",
       "    </tr>\n",
       "    <tr>\n",
       "      <th>max</th>\n",
       "      <td>33900.000000</td>\n",
       "      <td>1.110100e+06</td>\n",
       "      <td>2023.000000</td>\n",
       "      <td>9.000000</td>\n",
       "      <td>5.000000</td>\n",
       "      <td>7.000000</td>\n",
       "      <td>6.300000</td>\n",
       "      <td>6.000000</td>\n",
       "    </tr>\n",
       "  </tbody>\n",
       "</table>\n",
       "</div>"
      ],
      "text/plain": [
       "              Price  Mileage(miles)  Registration_Year  Previous Owners  \\\n",
       "count   3599.000000    3.599000e+03        3599.000000      2243.000000   \n",
       "mean    5789.254515    8.152794e+04        2011.930258         2.807847   \n",
       "std     4512.333738    3.956275e+04           4.778109         1.543335   \n",
       "min      400.000000    1.000000e+00        1992.000000         1.000000   \n",
       "25%     2490.000000    5.698400e+04        2008.000000         2.000000   \n",
       "50%     3999.000000    8.000000e+04        2012.000000         3.000000   \n",
       "75%     7999.000000    1.032000e+05        2016.000000         4.000000   \n",
       "max    33900.000000    1.110100e+06        2023.000000         9.000000   \n",
       "\n",
       "             Doors        Seats  Engine_Encoded  Emission_Class_Encoded  \n",
       "count  3599.000000  3593.000000     3599.000000             3599.000000  \n",
       "mean      4.316755     4.898692        1.603779                4.909975  \n",
       "std       0.988103     0.575368        0.485650                0.910813  \n",
       "min       2.000000     2.000000        0.800000                1.000000  \n",
       "25%       3.000000     5.000000        1.300000                4.000000  \n",
       "50%       5.000000     5.000000        1.600000                5.000000  \n",
       "75%       5.000000     5.000000        1.900000                6.000000  \n",
       "max       5.000000     7.000000        6.300000                6.000000  "
      ]
     },
     "execution_count": 43,
     "metadata": {},
     "output_type": "execute_result"
    }
   ],
   "source": [
    "renew_car_df.describe()"
   ]
  },
  {
   "cell_type": "code",
   "execution_count": 44,
   "id": "5335f2ef",
   "metadata": {},
   "outputs": [
    {
     "name": "stdout",
     "output_type": "stream",
     "text": [
      "                        Missing Count  Missing Ratio (%)\n",
      "title                               0           0.000000\n",
      "Price                               0           0.000000\n",
      "Mileage(miles)                      0           0.000000\n",
      "Registration_Year                   0           0.000000\n",
      "Previous Owners                  1356          36.777868\n",
      "Fuel type                           0           0.000000\n",
      "Body type                           0           0.000000\n",
      "Engine                              0           0.000000\n",
      "Gearbox                             0           0.000000\n",
      "Doors                               0           0.000000\n",
      "Seats                               6           0.162734\n",
      "Emission Class                      0           0.000000\n",
      "Service history                  3065          83.129916\n",
      "Brand                               0           0.000000\n",
      "Engine_Encoded                      0           0.000000\n",
      "Emission_Class_Encoded              0           0.000000\n"
     ]
    }
   ],
   "source": [
    "#결측치 개수 및 비율\n",
    "missing_count = renew_car_df.isnull().sum()\n",
    "# 결측치 비율 \n",
    "missing_ratio = (renew_car_df.isnull().sum() / len(car_df)) * 100\n",
    "# 결측치 개수 및 비율을 데이터프레임에\n",
    "missing_data = pd.DataFrame({\"Missing Count\": missing_count, \"Missing Ratio (%)\": missing_ratio})\n",
    "# 결측치 개수 및 비율 출력\n",
    "print(missing_data)"
   ]
  },
  {
   "cell_type": "code",
   "execution_count": 47,
   "id": "afdb899c",
   "metadata": {},
   "outputs": [],
   "source": [
    "# Service history 변수의 결측치는 'Unknown'으로 채우고, 결측치 변수가 일정 개수 이상 포함된 데이터는 제거\n",
    "renew_car_df = renew_car_df.copy()\n",
    "renew_car_df[\"Service history\"].fillna(\"Unknown\", inplace=True)\n",
    "threshold = 2  # 허용할 수 있는 최대 결측치 개수 2\n",
    "renew_car_df = renew_car_df.dropna(thresh=renew_car_df.shape[1] - threshold)"
   ]
  },
  {
   "cell_type": "code",
   "execution_count": 48,
   "id": "63a2dafc",
   "metadata": {},
   "outputs": [
    {
     "name": "stdout",
     "output_type": "stream",
     "text": [
      "<class 'pandas.core.frame.DataFrame'>\n",
      "Int64Index: 3599 entries, 0 to 3686\n",
      "Data columns (total 16 columns):\n",
      " #   Column                  Non-Null Count  Dtype  \n",
      "---  ------                  --------------  -----  \n",
      " 0   title                   3599 non-null   object \n",
      " 1   Price                   3599 non-null   int64  \n",
      " 2   Mileage(miles)          3599 non-null   int64  \n",
      " 3   Registration_Year       3599 non-null   int64  \n",
      " 4   Previous Owners         2243 non-null   float64\n",
      " 5   Fuel type               3599 non-null   object \n",
      " 6   Body type               3599 non-null   object \n",
      " 7   Engine                  3599 non-null   object \n",
      " 8   Gearbox                 3599 non-null   object \n",
      " 9   Doors                   3599 non-null   float64\n",
      " 10  Seats                   3593 non-null   float64\n",
      " 11  Emission Class          3599 non-null   object \n",
      " 12  Service history         3599 non-null   object \n",
      " 13  Brand                   3599 non-null   object \n",
      " 14  Engine_Encoded          3599 non-null   float64\n",
      " 15  Emission_Class_Encoded  3599 non-null   float64\n",
      "dtypes: float64(5), int64(3), object(8)\n",
      "memory usage: 478.0+ KB\n",
      "None\n"
     ]
    }
   ],
   "source": [
    "print(renew_car_df.info())"
   ]
  },
  {
   "cell_type": "code",
   "execution_count": 49,
   "id": "05c7863f",
   "metadata": {},
   "outputs": [
    {
     "name": "stdout",
     "output_type": "stream",
     "text": [
      "      Price  Mileage(miles)  Registration_Year  Previous Owners     Doors  \\\n",
      "0  0.246192       -0.286646           0.851866         0.124533  0.691568   \n",
      "1 -0.951803        0.178401          -0.822670         0.772625 -1.332794   \n",
      "2 -1.072821        1.402323          -0.194719              NaN  0.691568   \n",
      "3 -0.752322        0.384331          -0.404036         1.420717 -1.332794   \n",
      "4 -1.061517        0.087773           0.223915              NaN  0.691568   \n",
      "\n",
      "      Seats  Engine_Encoded  Emission_Class_Encoded  \n",
      "0  0.176100       -0.419659                1.196926  \n",
      "1  0.176100       -0.831535               -0.999218  \n",
      "2  0.176100       -0.419659                0.098854  \n",
      "3 -1.562161       -0.419659               -0.999218  \n",
      "4  0.176100       -0.625597                0.098854  \n"
     ]
    }
   ],
   "source": [
    "from sklearn.preprocessing import StandardScaler\n",
    "# StandardScaler\n",
    "scaler_standard = StandardScaler()\n",
    "scaled_standard = scaler_standard.fit_transform(renew_car_df.select_dtypes(include=[np.number]))\n",
    "# 데이터프레임 저장\n",
    "renew_car_df_standard = pd.DataFrame(scaled_standard, columns=renew_car_df.select_dtypes(include=[np.number]).columns)\n",
    "print(renew_car_df_standard.head())"
   ]
  },
  {
   "cell_type": "code",
   "execution_count": 50,
   "id": "c73072e7",
   "metadata": {},
   "outputs": [
    {
     "data": {
      "text/html": [
       "<div>\n",
       "<style scoped>\n",
       "    .dataframe tbody tr th:only-of-type {\n",
       "        vertical-align: middle;\n",
       "    }\n",
       "\n",
       "    .dataframe tbody tr th {\n",
       "        vertical-align: top;\n",
       "    }\n",
       "\n",
       "    .dataframe thead th {\n",
       "        text-align: right;\n",
       "    }\n",
       "</style>\n",
       "<table border=\"1\" class=\"dataframe\">\n",
       "  <thead>\n",
       "    <tr style=\"text-align: right;\">\n",
       "      <th></th>\n",
       "      <th>Price</th>\n",
       "      <th>Mileage(miles)</th>\n",
       "      <th>Registration_Year</th>\n",
       "      <th>Previous Owners</th>\n",
       "      <th>Doors</th>\n",
       "      <th>Seats</th>\n",
       "      <th>Engine_Encoded</th>\n",
       "      <th>Emission_Class_Encoded</th>\n",
       "    </tr>\n",
       "  </thead>\n",
       "  <tbody>\n",
       "    <tr>\n",
       "      <th>count</th>\n",
       "      <td>3.599000e+03</td>\n",
       "      <td>3.599000e+03</td>\n",
       "      <td>3.599000e+03</td>\n",
       "      <td>2.243000e+03</td>\n",
       "      <td>3.599000e+03</td>\n",
       "      <td>3.593000e+03</td>\n",
       "      <td>3.599000e+03</td>\n",
       "      <td>3.599000e+03</td>\n",
       "    </tr>\n",
       "    <tr>\n",
       "      <th>mean</th>\n",
       "      <td>1.263538e-16</td>\n",
       "      <td>1.105596e-16</td>\n",
       "      <td>1.615749e-14</td>\n",
       "      <td>1.393842e-16</td>\n",
       "      <td>1.658394e-16</td>\n",
       "      <td>6.555661e-16</td>\n",
       "      <td>-1.816336e-16</td>\n",
       "      <td>-3.158845e-17</td>\n",
       "    </tr>\n",
       "    <tr>\n",
       "      <th>std</th>\n",
       "      <td>1.000139e+00</td>\n",
       "      <td>1.000139e+00</td>\n",
       "      <td>1.000139e+00</td>\n",
       "      <td>1.000223e+00</td>\n",
       "      <td>1.000139e+00</td>\n",
       "      <td>1.000139e+00</td>\n",
       "      <td>1.000139e+00</td>\n",
       "      <td>1.000139e+00</td>\n",
       "    </tr>\n",
       "    <tr>\n",
       "      <th>min</th>\n",
       "      <td>-1.194505e+00</td>\n",
       "      <td>-2.060986e+00</td>\n",
       "      <td>-4.171740e+00</td>\n",
       "      <td>-1.171651e+00</td>\n",
       "      <td>-2.344974e+00</td>\n",
       "      <td>-5.038684e+00</td>\n",
       "      <td>-1.655289e+00</td>\n",
       "      <td>-4.293436e+00</td>\n",
       "    </tr>\n",
       "    <tr>\n",
       "      <th>25%</th>\n",
       "      <td>-7.312653e-01</td>\n",
       "      <td>-6.204661e-01</td>\n",
       "      <td>-8.226696e-01</td>\n",
       "      <td>-5.235589e-01</td>\n",
       "      <td>-1.332794e+00</td>\n",
       "      <td>1.760999e-01</td>\n",
       "      <td>-6.255971e-01</td>\n",
       "      <td>-9.992184e-01</td>\n",
       "    </tr>\n",
       "    <tr>\n",
       "      <th>50%</th>\n",
       "      <td>-3.968021e-01</td>\n",
       "      <td>-3.862595e-02</td>\n",
       "      <td>1.459810e-02</td>\n",
       "      <td>1.245330e-01</td>\n",
       "      <td>6.915677e-01</td>\n",
       "      <td>1.760999e-01</td>\n",
       "      <td>-7.782055e-03</td>\n",
       "      <td>9.885398e-02</td>\n",
       "    </tr>\n",
       "    <tr>\n",
       "      <th>75%</th>\n",
       "      <td>4.897804e-01</td>\n",
       "      <td>5.478657e-01</td>\n",
       "      <td>8.518658e-01</td>\n",
       "      <td>7.726250e-01</td>\n",
       "      <td>6.915677e-01</td>\n",
       "      <td>1.760999e-01</td>\n",
       "      <td>6.100330e-01</td>\n",
       "      <td>1.196926e+00</td>\n",
       "    </tr>\n",
       "    <tr>\n",
       "      <th>max</th>\n",
       "      <td>6.230623e+00</td>\n",
       "      <td>2.600211e+01</td>\n",
       "      <td>2.317084e+00</td>\n",
       "      <td>4.013085e+00</td>\n",
       "      <td>6.915677e-01</td>\n",
       "      <td>3.652623e+00</td>\n",
       "      <td>9.671320e+00</td>\n",
       "      <td>1.196926e+00</td>\n",
       "    </tr>\n",
       "  </tbody>\n",
       "</table>\n",
       "</div>"
      ],
      "text/plain": [
       "              Price  Mileage(miles)  Registration_Year  Previous Owners  \\\n",
       "count  3.599000e+03    3.599000e+03       3.599000e+03     2.243000e+03   \n",
       "mean   1.263538e-16    1.105596e-16       1.615749e-14     1.393842e-16   \n",
       "std    1.000139e+00    1.000139e+00       1.000139e+00     1.000223e+00   \n",
       "min   -1.194505e+00   -2.060986e+00      -4.171740e+00    -1.171651e+00   \n",
       "25%   -7.312653e-01   -6.204661e-01      -8.226696e-01    -5.235589e-01   \n",
       "50%   -3.968021e-01   -3.862595e-02       1.459810e-02     1.245330e-01   \n",
       "75%    4.897804e-01    5.478657e-01       8.518658e-01     7.726250e-01   \n",
       "max    6.230623e+00    2.600211e+01       2.317084e+00     4.013085e+00   \n",
       "\n",
       "              Doors         Seats  Engine_Encoded  Emission_Class_Encoded  \n",
       "count  3.599000e+03  3.593000e+03    3.599000e+03            3.599000e+03  \n",
       "mean   1.658394e-16  6.555661e-16   -1.816336e-16           -3.158845e-17  \n",
       "std    1.000139e+00  1.000139e+00    1.000139e+00            1.000139e+00  \n",
       "min   -2.344974e+00 -5.038684e+00   -1.655289e+00           -4.293436e+00  \n",
       "25%   -1.332794e+00  1.760999e-01   -6.255971e-01           -9.992184e-01  \n",
       "50%    6.915677e-01  1.760999e-01   -7.782055e-03            9.885398e-02  \n",
       "75%    6.915677e-01  1.760999e-01    6.100330e-01            1.196926e+00  \n",
       "max    6.915677e-01  3.652623e+00    9.671320e+00            1.196926e+00  "
      ]
     },
     "execution_count": 50,
     "metadata": {},
     "output_type": "execute_result"
    }
   ],
   "source": [
    "renew_car_df_standard.describe()"
   ]
  },
  {
   "cell_type": "code",
   "execution_count": 51,
   "id": "732eb7d0",
   "metadata": {},
   "outputs": [
    {
     "name": "stdout",
     "output_type": "stream",
     "text": [
      "      Price  Mileage(miles)  Registration_Year  Previous Owners     Doors  \\\n",
      "0  0.194030        0.063227           0.774194            0.250  1.000000   \n",
      "1  0.032687        0.079798           0.516129            0.375  0.333333   \n",
      "2  0.016388        0.123412           0.612903              NaN  1.000000   \n",
      "3  0.059552        0.087136           0.580645            0.500  0.333333   \n",
      "4  0.017910        0.076569           0.677419              NaN  1.000000   \n",
      "\n",
      "   Seats  Engine_Encoded  Emission_Class_Encoded  \n",
      "0    0.6        0.109091                     1.0  \n",
      "1    0.6        0.072727                     0.6  \n",
      "2    0.6        0.109091                     0.8  \n",
      "3    0.4        0.109091                     0.6  \n",
      "4    0.6        0.090909                     0.8  \n"
     ]
    }
   ],
   "source": [
    "from sklearn.preprocessing import MinMaxScaler\n",
    "# MinMaxScaler\n",
    "scaler_minmax = MinMaxScaler()\n",
    "scaled_minmax = scaler_minmax.fit_transform(renew_car_df.select_dtypes(include=[np.number]))\n",
    "# 데이터프레임 저장\n",
    "renew_car_df_minmax = pd.DataFrame(scaled_minmax, columns=renew_car_df.select_dtypes(include=[np.number]).columns)\n",
    "print(renew_car_df_minmax.head())"
   ]
  },
  {
   "cell_type": "code",
   "execution_count": 52,
   "id": "9030dd8d",
   "metadata": {},
   "outputs": [
    {
     "data": {
      "text/html": [
       "<div>\n",
       "<style scoped>\n",
       "    .dataframe tbody tr th:only-of-type {\n",
       "        vertical-align: middle;\n",
       "    }\n",
       "\n",
       "    .dataframe tbody tr th {\n",
       "        vertical-align: top;\n",
       "    }\n",
       "\n",
       "    .dataframe thead th {\n",
       "        text-align: right;\n",
       "    }\n",
       "</style>\n",
       "<table border=\"1\" class=\"dataframe\">\n",
       "  <thead>\n",
       "    <tr style=\"text-align: right;\">\n",
       "      <th></th>\n",
       "      <th>Price</th>\n",
       "      <th>Mileage(miles)</th>\n",
       "      <th>Registration_Year</th>\n",
       "      <th>Previous Owners</th>\n",
       "      <th>Doors</th>\n",
       "      <th>Seats</th>\n",
       "      <th>Engine_Encoded</th>\n",
       "      <th>Emission_Class_Encoded</th>\n",
       "    </tr>\n",
       "  </thead>\n",
       "  <tbody>\n",
       "    <tr>\n",
       "      <th>count</th>\n",
       "      <td>3599.000000</td>\n",
       "      <td>3599.000000</td>\n",
       "      <td>3599.000000</td>\n",
       "      <td>2243.000000</td>\n",
       "      <td>3599.000000</td>\n",
       "      <td>3593.000000</td>\n",
       "      <td>3599.000000</td>\n",
       "      <td>3599.000000</td>\n",
       "    </tr>\n",
       "    <tr>\n",
       "      <th>mean</th>\n",
       "      <td>0.160873</td>\n",
       "      <td>0.073441</td>\n",
       "      <td>0.642912</td>\n",
       "      <td>0.225981</td>\n",
       "      <td>0.772252</td>\n",
       "      <td>0.579738</td>\n",
       "      <td>0.146142</td>\n",
       "      <td>0.781995</td>\n",
       "    </tr>\n",
       "    <tr>\n",
       "      <th>std</th>\n",
       "      <td>0.134697</td>\n",
       "      <td>0.035639</td>\n",
       "      <td>0.154133</td>\n",
       "      <td>0.192917</td>\n",
       "      <td>0.329368</td>\n",
       "      <td>0.115074</td>\n",
       "      <td>0.088300</td>\n",
       "      <td>0.182163</td>\n",
       "    </tr>\n",
       "    <tr>\n",
       "      <th>min</th>\n",
       "      <td>0.000000</td>\n",
       "      <td>0.000000</td>\n",
       "      <td>0.000000</td>\n",
       "      <td>0.000000</td>\n",
       "      <td>0.000000</td>\n",
       "      <td>0.000000</td>\n",
       "      <td>0.000000</td>\n",
       "      <td>0.000000</td>\n",
       "    </tr>\n",
       "    <tr>\n",
       "      <th>25%</th>\n",
       "      <td>0.062388</td>\n",
       "      <td>0.051331</td>\n",
       "      <td>0.516129</td>\n",
       "      <td>0.125000</td>\n",
       "      <td>0.333333</td>\n",
       "      <td>0.600000</td>\n",
       "      <td>0.090909</td>\n",
       "      <td>0.600000</td>\n",
       "    </tr>\n",
       "    <tr>\n",
       "      <th>50%</th>\n",
       "      <td>0.107433</td>\n",
       "      <td>0.072065</td>\n",
       "      <td>0.645161</td>\n",
       "      <td>0.250000</td>\n",
       "      <td>1.000000</td>\n",
       "      <td>0.600000</td>\n",
       "      <td>0.145455</td>\n",
       "      <td>0.800000</td>\n",
       "    </tr>\n",
       "    <tr>\n",
       "      <th>75%</th>\n",
       "      <td>0.226836</td>\n",
       "      <td>0.092964</td>\n",
       "      <td>0.774194</td>\n",
       "      <td>0.375000</td>\n",
       "      <td>1.000000</td>\n",
       "      <td>0.600000</td>\n",
       "      <td>0.200000</td>\n",
       "      <td>1.000000</td>\n",
       "    </tr>\n",
       "    <tr>\n",
       "      <th>max</th>\n",
       "      <td>1.000000</td>\n",
       "      <td>1.000000</td>\n",
       "      <td>1.000000</td>\n",
       "      <td>1.000000</td>\n",
       "      <td>1.000000</td>\n",
       "      <td>1.000000</td>\n",
       "      <td>1.000000</td>\n",
       "      <td>1.000000</td>\n",
       "    </tr>\n",
       "  </tbody>\n",
       "</table>\n",
       "</div>"
      ],
      "text/plain": [
       "             Price  Mileage(miles)  Registration_Year  Previous Owners  \\\n",
       "count  3599.000000     3599.000000        3599.000000      2243.000000   \n",
       "mean      0.160873        0.073441           0.642912         0.225981   \n",
       "std       0.134697        0.035639           0.154133         0.192917   \n",
       "min       0.000000        0.000000           0.000000         0.000000   \n",
       "25%       0.062388        0.051331           0.516129         0.125000   \n",
       "50%       0.107433        0.072065           0.645161         0.250000   \n",
       "75%       0.226836        0.092964           0.774194         0.375000   \n",
       "max       1.000000        1.000000           1.000000         1.000000   \n",
       "\n",
       "             Doors        Seats  Engine_Encoded  Emission_Class_Encoded  \n",
       "count  3599.000000  3593.000000     3599.000000             3599.000000  \n",
       "mean      0.772252     0.579738        0.146142                0.781995  \n",
       "std       0.329368     0.115074        0.088300                0.182163  \n",
       "min       0.000000     0.000000        0.000000                0.000000  \n",
       "25%       0.333333     0.600000        0.090909                0.600000  \n",
       "50%       1.000000     0.600000        0.145455                0.800000  \n",
       "75%       1.000000     0.600000        0.200000                1.000000  \n",
       "max       1.000000     1.000000        1.000000                1.000000  "
      ]
     },
     "execution_count": 52,
     "metadata": {},
     "output_type": "execute_result"
    }
   ],
   "source": [
    "renew_car_df_minmax.describe()"
   ]
  },
  {
   "cell_type": "code",
   "execution_count": 53,
   "id": "8e1885f5",
   "metadata": {},
   "outputs": [
    {
     "name": "stdout",
     "output_type": "stream",
     "text": [
      "      Price  Mileage(miles)  Registration_Year  Previous Owners  Doors  \\\n",
      "0  0.203540        0.063228           0.996540         0.333333    1.0   \n",
      "1  0.044100        0.079799           0.992585         0.444444    0.6   \n",
      "2  0.027994        0.123412           0.994068              NaN    1.0   \n",
      "3  0.070649        0.087137           0.993574         0.555556    0.6   \n",
      "4  0.029499        0.076570           0.995057              NaN    1.0   \n",
      "\n",
      "      Seats  Engine_Encoded  Emission_Class_Encoded  \n",
      "0  0.714286        0.222222                1.000000  \n",
      "1  0.714286        0.190476                0.666667  \n",
      "2  0.714286        0.222222                0.833333  \n",
      "3  0.571429        0.222222                0.666667  \n",
      "4  0.714286        0.206349                0.833333  \n"
     ]
    }
   ],
   "source": [
    "from sklearn.preprocessing import MaxAbsScaler\n",
    "# MaxAbsScaler \n",
    "scaler_maxabs = MaxAbsScaler()\n",
    "scaled_maxabs = scaler_maxabs.fit_transform(renew_car_df.select_dtypes(include=[np.number]))\n",
    "# 데이터프레임 저장\n",
    "renew_car_df_maxabs = pd.DataFrame(scaled_maxabs, columns=renew_car_df.select_dtypes(include=[np.number]).columns)\n",
    "print(renew_car_df_maxabs.head())"
   ]
  },
  {
   "cell_type": "code",
   "execution_count": 54,
   "id": "499b89d5",
   "metadata": {},
   "outputs": [
    {
     "data": {
      "text/html": [
       "<div>\n",
       "<style scoped>\n",
       "    .dataframe tbody tr th:only-of-type {\n",
       "        vertical-align: middle;\n",
       "    }\n",
       "\n",
       "    .dataframe tbody tr th {\n",
       "        vertical-align: top;\n",
       "    }\n",
       "\n",
       "    .dataframe thead th {\n",
       "        text-align: right;\n",
       "    }\n",
       "</style>\n",
       "<table border=\"1\" class=\"dataframe\">\n",
       "  <thead>\n",
       "    <tr style=\"text-align: right;\">\n",
       "      <th></th>\n",
       "      <th>Price</th>\n",
       "      <th>Mileage(miles)</th>\n",
       "      <th>Registration_Year</th>\n",
       "      <th>Previous Owners</th>\n",
       "      <th>Doors</th>\n",
       "      <th>Seats</th>\n",
       "      <th>Engine_Encoded</th>\n",
       "      <th>Emission_Class_Encoded</th>\n",
       "    </tr>\n",
       "  </thead>\n",
       "  <tbody>\n",
       "    <tr>\n",
       "      <th>count</th>\n",
       "      <td>3599.000000</td>\n",
       "      <td>3.599000e+03</td>\n",
       "      <td>3599.000000</td>\n",
       "      <td>2243.000000</td>\n",
       "      <td>3599.000000</td>\n",
       "      <td>3593.000000</td>\n",
       "      <td>3599.000000</td>\n",
       "      <td>3599.000000</td>\n",
       "    </tr>\n",
       "    <tr>\n",
       "      <th>mean</th>\n",
       "      <td>0.170774</td>\n",
       "      <td>7.344197e-02</td>\n",
       "      <td>0.994528</td>\n",
       "      <td>0.311983</td>\n",
       "      <td>0.863351</td>\n",
       "      <td>0.699813</td>\n",
       "      <td>0.254568</td>\n",
       "      <td>0.818329</td>\n",
       "    </tr>\n",
       "    <tr>\n",
       "      <th>std</th>\n",
       "      <td>0.133107</td>\n",
       "      <td>3.563891e-02</td>\n",
       "      <td>0.002362</td>\n",
       "      <td>0.171482</td>\n",
       "      <td>0.197621</td>\n",
       "      <td>0.082195</td>\n",
       "      <td>0.077087</td>\n",
       "      <td>0.151802</td>\n",
       "    </tr>\n",
       "    <tr>\n",
       "      <th>min</th>\n",
       "      <td>0.011799</td>\n",
       "      <td>9.008197e-07</td>\n",
       "      <td>0.984676</td>\n",
       "      <td>0.111111</td>\n",
       "      <td>0.400000</td>\n",
       "      <td>0.285714</td>\n",
       "      <td>0.126984</td>\n",
       "      <td>0.166667</td>\n",
       "    </tr>\n",
       "    <tr>\n",
       "      <th>25%</th>\n",
       "      <td>0.073451</td>\n",
       "      <td>5.133231e-02</td>\n",
       "      <td>0.992585</td>\n",
       "      <td>0.222222</td>\n",
       "      <td>0.600000</td>\n",
       "      <td>0.714286</td>\n",
       "      <td>0.206349</td>\n",
       "      <td>0.666667</td>\n",
       "    </tr>\n",
       "    <tr>\n",
       "      <th>50%</th>\n",
       "      <td>0.117965</td>\n",
       "      <td>7.206558e-02</td>\n",
       "      <td>0.994563</td>\n",
       "      <td>0.333333</td>\n",
       "      <td>1.000000</td>\n",
       "      <td>0.714286</td>\n",
       "      <td>0.253968</td>\n",
       "      <td>0.833333</td>\n",
       "    </tr>\n",
       "    <tr>\n",
       "      <th>75%</th>\n",
       "      <td>0.235959</td>\n",
       "      <td>9.296460e-02</td>\n",
       "      <td>0.996540</td>\n",
       "      <td>0.444444</td>\n",
       "      <td>1.000000</td>\n",
       "      <td>0.714286</td>\n",
       "      <td>0.301587</td>\n",
       "      <td>1.000000</td>\n",
       "    </tr>\n",
       "    <tr>\n",
       "      <th>max</th>\n",
       "      <td>1.000000</td>\n",
       "      <td>1.000000e+00</td>\n",
       "      <td>1.000000</td>\n",
       "      <td>1.000000</td>\n",
       "      <td>1.000000</td>\n",
       "      <td>1.000000</td>\n",
       "      <td>1.000000</td>\n",
       "      <td>1.000000</td>\n",
       "    </tr>\n",
       "  </tbody>\n",
       "</table>\n",
       "</div>"
      ],
      "text/plain": [
       "             Price  Mileage(miles)  Registration_Year  Previous Owners  \\\n",
       "count  3599.000000    3.599000e+03        3599.000000      2243.000000   \n",
       "mean      0.170774    7.344197e-02           0.994528         0.311983   \n",
       "std       0.133107    3.563891e-02           0.002362         0.171482   \n",
       "min       0.011799    9.008197e-07           0.984676         0.111111   \n",
       "25%       0.073451    5.133231e-02           0.992585         0.222222   \n",
       "50%       0.117965    7.206558e-02           0.994563         0.333333   \n",
       "75%       0.235959    9.296460e-02           0.996540         0.444444   \n",
       "max       1.000000    1.000000e+00           1.000000         1.000000   \n",
       "\n",
       "             Doors        Seats  Engine_Encoded  Emission_Class_Encoded  \n",
       "count  3599.000000  3593.000000     3599.000000             3599.000000  \n",
       "mean      0.863351     0.699813        0.254568                0.818329  \n",
       "std       0.197621     0.082195        0.077087                0.151802  \n",
       "min       0.400000     0.285714        0.126984                0.166667  \n",
       "25%       0.600000     0.714286        0.206349                0.666667  \n",
       "50%       1.000000     0.714286        0.253968                0.833333  \n",
       "75%       1.000000     0.714286        0.301587                1.000000  \n",
       "max       1.000000     1.000000        1.000000                1.000000  "
      ]
     },
     "execution_count": 54,
     "metadata": {},
     "output_type": "execute_result"
    }
   ],
   "source": [
    "renew_car_df_maxabs.describe()"
   ]
  },
  {
   "cell_type": "code",
   "execution_count": 55,
   "id": "db367581",
   "metadata": {},
   "outputs": [
    {
     "data": {
      "image/png": "[encoded data removed]",
      "text/plain": [
       "<Figure size 432x288 with 1 Axes>"
      ]
     },
     "metadata": {
      "needs_background": "light"
     },
     "output_type": "display_data"
    }
   ],
   "source": [
    "sns.scatterplot(x=renew_car_df_standard[\"Mileage(miles)\"], y=renew_car_df_standard[\"Price\"]) #주행거리 vs 가격\n",
    "plt.title(\"Mileage vs Price (StandardScaler)\")\n",
    "plt.show()                                            # 주행거리가 많을수록 가격 하락"
   ]
  },
  {
   "cell_type": "code",
   "execution_count": 56,
   "id": "b8604a64",
   "metadata": {},
   "outputs": [
    {
     "data": {
      "image/png": "[encoded data removed]",
      "text/plain": [
       "<Figure size 432x288 with 1 Axes>"
      ]
     },
     "metadata": {
      "needs_background": "light"
     },
     "output_type": "display_data"
    }
   ],
   "source": [
    "sns.scatterplot(x=renew_car_df_standard[\"Registration_Year\"], y=renew_car_df_standard[\"Price\"]) #등록연도 vs 가격\n",
    "plt.title(\"Registration Year vs Price (StandardScaler)\")\n",
    "plt.show()                                                      #등록연도가 최근일수 록 가격 상승"
   ]
  },
  {
   "cell_type": "code",
   "execution_count": 57,
   "id": "b1c3a222",
   "metadata": {},
   "outputs": [
    {
     "data": {
      "image/png": "[encoded data removed]",
      "text/plain": [
       "<Figure size 432x288 with 1 Axes>"
      ]
     },
     "metadata": {
      "needs_background": "light"
     },
     "output_type": "display_data"
    }
   ],
   "source": [
    "sns.scatterplot(x=renew_car_df_standard[\"Engine_Encoded\"], y=renew_car_df_standard[\"Price\"]) #배기랑 vs 가격\n",
    "plt.title(\"Engine Size vs Price (StandardScaler)\")                          \n",
    "plt.show()                                                           # 가격0이하 삭제이후 재검토"
   ]
  },
  {
   "cell_type": "code",
   "execution_count": 60,
   "id": "b59632f0",
   "metadata": {},
   "outputs": [
    {
     "data": {
      "image/png": "[encoded data removed]",
      "text/plain": [
       "<Figure size 432x288 with 1 Axes>"
      ]
     },
     "metadata": {
      "needs_background": "light"
     },
     "output_type": "display_data"
    }
   ],
   "source": [
    "sns.scatterplot(x=renew_car_df_standard[\"Emission_Class_Encoded\"], y=renew_car_df_standard[\"Price\"]) #배출등급 vs 가격\n",
    "plt.title(\"Emission Class vs Price (StandardScaler)\")\n",
    "plt.show()                                                     #배출 등급이 좋을수록 가격 상승"
   ]
  },
  {
   "cell_type": "code",
   "execution_count": 61,
   "id": "4052bf22",
   "metadata": {},
   "outputs": [
    {
     "data": {
      "image/png": "[encoded data removed]",
      "text/plain": [
       "<Figure size 432x288 with 1 Axes>"
      ]
     },
     "metadata": {
      "needs_background": "light"
     },
     "output_type": "display_data"
    }
   ],
   "source": [
    "sns.scatterplot(x=renew_car_df_standard[\"Seats\"], y=renew_car_df_standard[\"Price\"]) #좌석수 vs 가격\n",
    "plt.title(\"Seats vs Price (StandardScaler)\")\n",
    "plt.show()                                           #죄석수 0이하 삭제이후 검토필요"
   ]
  },
  {
   "cell_type": "code",
   "execution_count": 62,
   "id": "57323ef1",
   "metadata": {},
   "outputs": [
    {
     "name": "stdout",
     "output_type": "stream",
     "text": [
      "count    3599.000000\n",
      "mean        1.603779\n",
      "std         0.485650\n",
      "min         0.800000\n",
      "25%         1.300000\n",
      "50%         1.600000\n",
      "75%         1.900000\n",
      "max         6.300000\n",
      "Name: Engine_Encoded, dtype: float64\n"
     ]
    }
   ],
   "source": [
    "renew_car_df = renew_car_df[renew_car_df[\"Engine_Encoded\"] > 0].copy()\n",
    "print(renew_car_df[\"Engine_Encoded\"].describe())"
   ]
  },
  {
   "cell_type": "code",
   "execution_count": 66,
   "id": "c714ba08",
   "metadata": {},
   "outputs": [
    {
     "data": {
      "image/png": "[encoded data removed]",
      "text/plain": [
       "<Figure size 432x288 with 1 Axes>"
      ]
     },
     "metadata": {
      "needs_background": "light"
     },
     "output_type": "display_data"
    }
   ],
   "source": [
    "sns.scatterplot(x=renew_car_df_standard[\"Engine_Encoded\"], y=renew_car_df_standard[\"Price\"])\n",
    "plt.title(\"Engine Size vs Price (StandardScaler)\")            #Engine_Encoded 4이상, 가격4이상 삭제\n",
    "plt.show()"
   ]
  },
  {
   "cell_type": "code",
   "execution_count": 65,
   "id": "ba492e11",
   "metadata": {},
   "outputs": [
    {
     "data": {
      "image/png": "[encoded data removed]",
      "text/plain": [
       "<Figure size 432x288 with 1 Axes>"
      ]
     },
     "metadata": {
      "needs_background": "light"
     },
     "output_type": "display_data"
    }
   ],
   "source": [
    "# Engine_Encoded 4 이상인 데이터 제거\n",
    "renew_car_df = renew_car_df[renew_car_df[\"Engine_Encoded\"] < 4].copy()\n",
    "# 가격 30,000 이상인 데이터 제거\n",
    "renew_car_df = renew_car_df[renew_car_df[\"Price\"] < 30000].copy()\n",
    "\n",
    "sns.scatterplot(x=renew_car_df[\"Engine_Encoded\"], y=renew_car_df[\"Price\"])\n",
    "plt.title(\"Engine Size vs Price (Filtered)\")\n",
    "plt.show()                                   #Engine_Encoded와 가격과는 별다른 상관관계 찾기 어려움"
   ]
  },
  {
   "cell_type": "code",
   "execution_count": 67,
   "id": "10469485",
   "metadata": {},
   "outputs": [
    {
     "data": {
      "image/png": "[encoded data removed]",
      "text/plain": [
       "<Figure size 432x288 with 1 Axes>"
      ]
     },
     "metadata": {
      "needs_background": "light"
     },
     "output_type": "display_data"
    }
   ],
   "source": [
    "# Seats가 0 이하인 행 제거\n",
    "renew_car_df_standard = renew_car_df_standard[renew_car_df_standard[\"Seats\"] > 0].copy()\n",
    "# 좌석 수 vs 가격\n",
    "sns.scatterplot(x=renew_car_df_standard[\"Seats\"], y=renew_car_df_standard[\"Price\"])\n",
    "plt.title(\"Seats vs Price (StandardScaler)\")\n",
    "plt.show()"
   ]
  },
  {
   "cell_type": "code",
   "execution_count": 68,
   "id": "a9ec7d82",
   "metadata": {},
   "outputs": [
    {
     "data": {
      "image/png": "[encoded data removed]",
      "text/plain": [
       "<Figure size 432x288 with 1 Axes>"
      ]
     },
     "metadata": {
      "needs_background": "light"
     },
     "output_type": "display_data"
    }
   ],
   "source": [
    "renew_car_df_standard = renew_car_df_standard[renew_car_df_standard[\"Seats\"] > 0.5].copy()   #좌석수 0.5이하 삭제\n",
    "# 좌석 수 vs 가격\n",
    "sns.scatterplot(x=renew_car_df_standard[\"Seats\"], y=renew_car_df_standard[\"Price\"])\n",
    "plt.title(\"Seats vs Price (Filtered, StandardScaler)\")\n",
    "plt.show()                              # 좌석수와 가격은 상관관계가 없는것으로 판단됨."
   ]
  },
  {
   "cell_type": "code",
   "execution_count": 70,
   "id": "bd7b9873",
   "metadata": {},
   "outputs": [
    {
     "data": {
      "image/png": "[encoded data removed]",
      "text/plain": [
       "<Figure size 720x504 with 2 Axes>"
      ]
     },
     "metadata": {
      "needs_background": "light"
     },
     "output_type": "display_data"
    }
   ],
   "source": [
    "from mpl_toolkits.mplot3d import Axes3D\n",
    "import numpy as np\n",
    "# 3D Scatter Plot \n",
    "fig = plt.figure(figsize=(10, 7))\n",
    "ax = fig.add_subplot(111, projection='3d')\n",
    "# 데이터 \n",
    "x = renew_car_df_standard[\"Registration_Year\"]  # 차량 연식\n",
    "y = renew_car_df_standard[\"Emission_Class_Encoded\"]  # 배출가스 등급\n",
    "z = renew_car_df_standard[\"Price\"]  # 가격\n",
    "c = renew_car_df_standard[\"Mileage(miles)\"]  # 주행거리 (색상으로 표현)\n",
    "# 3D 산점도 \n",
    "sc = ax.scatter(x, y, z, c=-c, cmap=\"coolwarm\", alpha=0.7, s=20)\n",
    "# 축 라벨 설정\n",
    "ax.set_xlabel(\"Registration Year\")\n",
    "ax.set_ylabel(\"Emission Class Encoded\")\n",
    "ax.set_zlabel(\"Price\")\n",
    "ax.set_title(\"3D Scatter Plot: Registration Year, Emission Class, Mileage vs Price\")\n",
    "# 컬러바 추가 (주행거리)\n",
    "cbar = fig.colorbar(sc, ax=ax, shrink=0.5)\n",
    "cbar.set_label(\"Lower Mileage (Darker) / Higher Mileage (Lighter)\")\n",
    "plt.show()    "
   ]
  },
  {
   "cell_type": "code",
   "execution_count": null,
   "id": "f9e50782",
   "metadata": {},
   "outputs": [],
   "source": [
    "# 등록연도가 최근, 배출가스 등급이 높은(친환경), 주행거리가 적을수록 차량가격이 높다.\n",
    "# (특히 주행거리가 많을수록 가격이 떨어지는 경향이 높음)"
   ]
  },
  {
   "cell_type": "code",
   "execution_count": 71,
   "id": "e3bad5a1",
   "metadata": {},
   "outputs": [
    {
     "name": "stdout",
     "output_type": "stream",
     "text": [
      "           Country  Total_Brands\n",
      "0   Czech Republic             1\n",
      "1           France             4\n",
      "2          Germany             6\n",
      "3            Italy             4\n",
      "4            Japan            11\n",
      "5         Malaysia             1\n",
      "6          Romania             1\n",
      "7      South Korea             4\n",
      "8            Spain             1\n",
      "9           Sweden             2\n",
      "10  United Kingdom             8\n",
      "11   United States             5\n"
     ]
    }
   ],
   "source": [
    "country_brand_count = brand_df.groupby(\"country\")[\"title\"].nunique().reset_index()   #국가별 브랜드수\n",
    "country_brand_count.columns = [\"Country\", \"Total_Brands\"]\n",
    "print(country_brand_count)"
   ]
  },
  {
   "cell_type": "code",
   "execution_count": 72,
   "id": "7ee6d3a4",
   "metadata": {},
   "outputs": [
    {
     "data": {
      "image/png": "[encoded data removed]",
      "text/plain": [
       "<Figure size 720x432 with 2 Axes>"
      ]
     },
     "metadata": {
      "needs_background": "light"
     },
     "output_type": "display_data"
    }
   ],
   "source": [
    "# 숫자형 변수만 선택\n",
    "numeric_cols = renew_car_df_standard.select_dtypes(include=[np.number])\n",
    "# 상관계수 행렬 계산\n",
    "corr_matrix = numeric_cols.corr()\n",
    "# 상관계수 히트맵 시각화\n",
    "plt.figure(figsize=(10, 6))\n",
    "sns.heatmap(corr_matrix, annot=True, cmap=\"coolwarm\", fmt=\".2f\", linewidths=0.5)\n",
    "plt.title(\"Feature Correlation Matrix\")\n",
    "plt.show()"
   ]
  },
  {
   "cell_type": "code",
   "execution_count": null,
   "id": "1fdeaa44",
   "metadata": {},
   "outputs": [],
   "source": [
    "#연식 Registration_Year 높을수록 차량 가격이 상승하는 경향이 강함 (0.69)\n",
    "#주행거리가 많을수록(Mileage(miles)) 가격이 낮아지는 경향이 있음 (-0.50)\n",
    "#배출가스 등급(Emission_Class_Encoded)이 높을수록(친환경?) 가격이 상승하는 경향이 있음 (0.57)"
   ]
  }
 ],
 "metadata": {
  "kernelspec": {
   "display_name": "Python 3 (ipykernel)",
   "language": "python",
   "name": "python3"
  },
  "language_info": {
   "codemirror_mode": {
    "name": "ipython",
    "version": 3
   },
   "file_extension": ".py",
   "mimetype": "text/x-python",
   "name": "python",
   "nbconvert_exporter": "python",
   "pygments_lexer": "ipython3",
   "version": "3.9.7"
  }
 },
 "nbformat": 4,
 "nbformat_minor": 5
}
