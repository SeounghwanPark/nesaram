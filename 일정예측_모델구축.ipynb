{
  "nbformat": 4,
  "nbformat_minor": 0,
  "metadata": {
    "colab": {
      "provenance": [],
      "mount_file_id": "1bhke5NHdUf6GeSh8YRACOQhRC33ZyHsG",
      "authorship_tag": "ABX9TyP8kwntrj47gtMk0mCKOBpE",
      "include_colab_link": true
    },
    "kernelspec": {
      "name": "python3",
      "display_name": "Python 3"
    },
    "language_info": {
      "name": "python"
    }
  },
  "cells": [
    {
      "cell_type": "markdown",
      "metadata": {
        "id": "view-in-github",
        "colab_type": "text"
      },
      "source": [
        "<a href=\"https://colab.research.google.com/github/SeounghwanPark/nesaram/blob/main/%EC%9D%BC%EC%A0%95%EC%98%88%EC%B8%A1_%EB%AA%A8%EB%8D%B8%EA%B5%AC%EC%B6%95.ipynb\" target=\"_parent\"><img src=\"https://colab.research.google.com/assets/colab-badge.svg\" alt=\"Open In Colab\"/></a>"
      ]
    },
    {
      "cell_type": "code",
      "execution_count": null,
      "metadata": {
        "id": "mYDDwrI-iXfd"
      },
      "outputs": [],
      "source": [
        "import pandas as pd\n",
        "\n",
        "# CSV 파일 불러오기\n",
        "df = pd.read_csv(\"project_schedule1.csv\")\n",
        "\n",
        "# 데이터 미리보기\n",
        "print(df.head())"
      ]
    },
    {
      "cell_type": "code",
      "source": [
        "# 데이터 타입 확인\n",
        "print(df.info())\n",
        "\n",
        "# 결측치 확인\n",
        "print(df.isnull().sum())"
      ],
      "metadata": {
        "id": "XcE4AOCEiu_p"
      },
      "execution_count": null,
      "outputs": []
    },
    {
      "cell_type": "code",
      "source": [
        "# 분석에 필요 없는 컬럼 삭제\n",
        "df = df[['Activity_ID', 'Start_Date', 'Finish_Date', 'Planned_Finish', 'Actual_Finish', 'Status']]"
      ],
      "metadata": {
        "id": "jbhXwn_AivC1"
      },
      "execution_count": null,
      "outputs": []
    },
    {
      "cell_type": "code",
      "source": [
        "# 날짜 컬럼을 datetime 형식으로 변환\n",
        "df['Start_Date'] = pd.to_datetime(df['Start_Date'])\n",
        "df['Finish_Date'] = pd.to_datetime(df['Finish_Date'])\n",
        "df['Planned_Finish'] = pd.to_datetime(df['Planned_Finish'])\n",
        "df['Actual_Finish'] = pd.to_datetime(df['Actual_Finish'])"
      ],
      "metadata": {
        "id": "JqweOjF7ivFy"
      },
      "execution_count": null,
      "outputs": []
    },
    {
      "cell_type": "code",
      "source": [
        "# 일정 지연 일수 계산\n",
        "df['Delay_Days'] = (df['Actual_Finish'] - df['Planned_Finish']).dt.days\n",
        "df['Delay_Flag'] = df['Delay_Days'].apply(lambda x: 1 if x > 0 else 0)  # 지연 여부 (1: 지연, 0: 정상)"
      ],
      "metadata": {
        "id": "AUm3MTjlivIw"
      },
      "execution_count": null,
      "outputs": []
    },
    {
      "cell_type": "code",
      "source": [
        "import matplotlib.pyplot as plt\n",
        "import seaborn as sns\n",
        "\n",
        "plt.figure(figsize=(10, 5))\n",
        "sns.histplot(df['Delay_Days'], bins=30, kde=True)\n",
        "plt.title(\"일정 지연 분포\")\n",
        "plt.xlabel(\"지연 일수\")\n",
        "plt.ylabel(\"빈도수\")\n",
        "plt.show()"
      ],
      "metadata": {
        "id": "q1y_gSSAivLj"
      },
      "execution_count": null,
      "outputs": []
    },
    {
      "cell_type": "code",
      "source": [
        "df['Month'] = df['Planned_Finish'].dt.to_period('M')\n",
        "\n",
        "# 월별 평균 지연 일수 계산\n",
        "monthly_delay = df.groupby('Month')['Delay_Days'].mean()\n",
        "\n",
        "plt.figure(figsize=(12, 5))\n",
        "monthly_delay.plot(kind='bar')\n",
        "plt.title(\"월별 평균 일정 지연\")\n",
        "plt.xlabel(\"월\")\n",
        "plt.ylabel(\"평균 지연 일수\")\n",
        "plt.show()"
      ],
      "metadata": {
        "id": "kCH9rzO-ivOo"
      },
      "execution_count": null,
      "outputs": []
    },
    {
      "cell_type": "code",
      "source": [
        "# 1: 머신러닝을 위한 데이터 준비\n",
        "from sklearn.model_selection import train_test_split\n",
        "\n",
        "# Feature & Target 설정\n",
        "X = df[['Start_Date', 'Planned_Finish']]  # 독립변수\n",
        "y = df['Delay_Flag']  # 목표 변수 (지연 여부 예측)\n",
        "\n",
        "# 날짜를 숫자로 변환\n",
        "X['Start_Date'] = X['Start_Date'].astype('int64') // 10**9\n",
        "X['Planned_Finish'] = X['Planned_Finish'].astype('int64') // 10**9\n",
        "\n",
        "# 데이터 분할\n",
        "X_train, X_test, y_train, y_test = train_test_split(X, y, test_size=0.2, random_state=42)"
      ],
      "metadata": {
        "id": "d7_geejMirtF"
      },
      "execution_count": null,
      "outputs": []
    },
    {
      "cell_type": "code",
      "source": [
        "# 2: 랜덤 포레스트 모델 학습\n",
        "from sklearn.ensemble import RandomForestClassifier\n",
        "from sklearn.metrics import accuracy_score\n",
        "\n",
        "# 모델 생성 및 학습\n",
        "model = RandomForestClassifier(n_estimators=100, random_state=42)\n",
        "model.fit(X_train, y_train)\n",
        "\n",
        "# 예측\n",
        "y_pred = model.predict(X_test)\n",
        "\n",
        "# 정확도 평가\n",
        "print(\"정확도:\", accuracy_score(y_test, y_pred))"
      ],
      "metadata": {
        "id": "5UNmPwqkjG9C"
      },
      "execution_count": null,
      "outputs": []
    },
    {
      "cell_type": "code",
      "source": [
        "# 시계열 분석을 활용한 일정 지연 예측 (ARIMA, Prophet)\n",
        "# 1: ARIMA 모델 학습\n",
        "from statsmodels.tsa.arima.model import ARIMA\n",
        "\n",
        "# 시계열 데이터 준비\n",
        "ts_data = df.groupby('Planned_Finish')['Delay_Days'].mean()\n",
        "\n",
        "# ARIMA 모델 학습\n",
        "model = ARIMA(ts_data, order=(1,1,1))\n",
        "model_fit = model.fit()\n",
        "\n",
        "# 예측\n",
        "forecast = model_fit.forecast(steps=10)\n",
        "print(forecast)"
      ],
      "metadata": {
        "id": "QbWr3ophjOGG"
      },
      "execution_count": null,
      "outputs": []
    },
    {
      "cell_type": "code",
      "source": [
        "# 2: Prophet 모델 학습\n",
        "from prophet import Prophet\n",
        "\n",
        "# Prophet 데이터 준비\n",
        "prophet_df = df[['Planned_Finish', 'Delay_Days']].rename(columns={'Planned_Finish': 'ds', 'Delay_Days': 'y'})\n",
        "\n",
        "# 모델 학습\n",
        "model = Prophet()\n",
        "model.fit(prophet_df)\n",
        "\n",
        "# 예측\n",
        "future = model.make_future_dataframe(periods=30)\n",
        "forecast = model.predict(future)\n",
        "\n",
        "# 결과 시각화\n",
        "model.plot(forecast)\n",
        "plt.show()"
      ],
      "metadata": {
        "id": "RtXEH7ehjU8Y"
      },
      "execution_count": null,
      "outputs": []
    },
    {
      "cell_type": "code",
      "source": [],
      "metadata": {
        "id": "WM3uplcLj40s"
      },
      "execution_count": null,
      "outputs": []
    }
  ]
}