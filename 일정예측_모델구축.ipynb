{
  "nbformat": 4,
  "nbformat_minor": 0,
  "metadata": {
    "colab": {
      "provenance": [],
      "mount_file_id": "1bhke5NHdUf6GeSh8YRACOQhRC33ZyHsG",
      "authorship_tag": "ABX9TyM+FewQWoFvrO8nusG721R1",
      "include_colab_link": true
    },
    "kernelspec": {
      "name": "python3",
      "display_name": "Python 3"
    },
    "language_info": {
      "name": "python"
    }
  },
  "cells": [
    {
      "cell_type": "markdown",
      "metadata": {
        "id": "view-in-github",
        "colab_type": "text"
      },
      "source": [
        "<a href=\"https://colab.research.google.com/github/SeounghwanPark/nesaram/blob/main/%EC%9D%BC%EC%A0%95%EC%98%88%EC%B8%A1_%EB%AA%A8%EB%8D%B8%EA%B5%AC%EC%B6%95.ipynb\" target=\"_parent\"><img src=\"https://colab.research.google.com/assets/colab-badge.svg\" alt=\"Open In Colab\"/></a>"
      ]
    },
    {
      "cell_type": "code",
      "execution_count": null,
      "metadata": {
        "id": "mYDDwrI-iXfd"
      },
      "outputs": [],
      "source": [
        "import pandas as pd\n",
        "\n",
        "# CSV 파일 불러오기\n",
        "df = pd.read_csv(\"project_schedule1.csv\")\n",
        "\n",
        "# 데이터 미리보기\n",
        "print(df.head())"
      ]
    },
    {
      "cell_type": "code",
      "source": [
        "# 데이터 타입 확인\n",
        "print(df.info())\n",
        "\n",
        "# 결측치 확인\n",
        "print(df.isnull().sum())"
      ],
      "metadata": {
        "id": "XcE4AOCEiu_p"
      },
      "execution_count": null,
      "outputs": []
    },
    {
      "cell_type": "code",
      "source": [
        "# 분석에 필요 없는 컬럼 삭제\n",
        "df = df[['Activity_ID', 'Start_Date', 'Finish_Date', 'Planned_Finish', 'Actual_Finish', 'Status']]"
      ],
      "metadata": {
        "id": "jbhXwn_AivC1"
      },
      "execution_count": null,
      "outputs": []
    },
    {
      "cell_type": "code",
      "source": [
        "# 날짜 컬럼을 datetime 형식으로 변환\n",
        "df['Start_Date'] = pd.to_datetime(df['Start_Date'])\n",
        "df['Finish_Date'] = pd.to_datetime(df['Finish_Date'])\n",
        "df['Planned_Finish'] = pd.to_datetime(df['Planned_Finish'])\n",
        "df['Actual_Finish'] = pd.to_datetime(df['Actual_Finish'])"
      ],
      "metadata": {
        "id": "JqweOjF7ivFy"
      },
      "execution_count": null,
      "outputs": []
    },
    {
      "cell_type": "code",
      "source": [
        "# 일정 지연 일수 계산\n",
        "df['Delay_Days'] = (df['Actual_Finish'] - df['Planned_Finish']).dt.days\n",
        "df['Delay_Flag'] = df['Delay_Days'].apply(lambda x: 1 if x > 0 else 0)  # 지연 여부 (1: 지연, 0: 정상)"
      ],
      "metadata": {
        "id": "AUm3MTjlivIw"
      },
      "execution_count": null,
      "outputs": []
    },
    {
      "cell_type": "code",
      "source": [
        "import matplotlib.pyplot as plt\n",
        "import seaborn as sns\n",
        "\n",
        "plt.figure(figsize=(10, 5))\n",
        "sns.histplot(df['Delay_Days'], bins=30, kde=True)\n",
        "plt.title(\"일정 지연 분포\")\n",
        "plt.xlabel(\"지연 일수\")\n",
        "plt.ylabel(\"빈도수\")\n",
        "plt.show()"
      ],
      "metadata": {
        "id": "q1y_gSSAivLj"
      },
      "execution_count": null,
      "outputs": []
    },
    {
      "cell_type": "code",
      "source": [
        "df['Month'] = df['Planned_Finish'].dt.to_period('M')\n",
        "\n",
        "# 월별 평균 지연 일수 계산\n",
        "monthly_delay = df.groupby('Month')['Delay_Days'].mean()\n",
        "\n",
        "plt.figure(figsize=(12, 5))\n",
        "monthly_delay.plot(kind='bar')\n",
        "plt.title(\"월별 평균 일정 지연\")\n",
        "plt.xlabel(\"월\")\n",
        "plt.ylabel(\"평균 지연 일수\")\n",
        "plt.show()"
      ],
      "metadata": {
        "id": "kCH9rzO-ivOo"
      },
      "execution_count": null,
      "outputs": []
    },
    {
      "cell_type": "code",
      "source": [
        "# 1: 머신러닝을 위한 데이터 준비\n",
        "from sklearn.model_selection import train_test_split\n",
        "\n",
        "# Feature & Target 설정\n",
        "X = df[['Start_Date', 'Planned_Finish']]  # 독립변수\n",
        "y = df['Delay_Flag']  # 목표 변수 (지연 여부 예측)\n",
        "\n",
        "# 날짜를 숫자로 변환\n",
        "X['Start_Date'] = X['Start_Date'].astype('int64') // 10**9\n",
        "X['Planned_Finish'] = X['Planned_Finish'].astype('int64') // 10**9\n",
        "\n",
        "# 데이터 분할\n",
        "X_train, X_test, y_train, y_test = train_test_split(X, y, test_size=0.2, random_state=42)"
      ],
      "metadata": {
        "id": "d7_geejMirtF"
      },
      "execution_count": null,
      "outputs": []
    },
    {
      "cell_type": "code",
      "source": [
        "# 2: 랜덤 포레스트 모델 학습\n",
        "from sklearn.ensemble import RandomForestClassifier\n",
        "from sklearn.metrics import accuracy_score\n",
        "\n",
        "# 모델 생성 및 학습\n",
        "model = RandomForestClassifier(n_estimators=100, random_state=42)\n",
        "model.fit(X_train, y_train)\n",
        "\n",
        "# 예측\n",
        "y_pred = model.predict(X_test)\n",
        "\n",
        "# 정확도 평가\n",
        "print(\"정확도:\", accuracy_score(y_test, y_pred))"
      ],
      "metadata": {
        "id": "5UNmPwqkjG9C"
      },
      "execution_count": null,
      "outputs": []
    },
    {
      "cell_type": "code",
      "source": [
        "# 시계열 분석을 활용한 일정 지연 예측 (ARIMA, Prophet)\n",
        "# 1: ARIMA 모델 학습\n",
        "from statsmodels.tsa.arima.model import ARIMA\n",
        "\n",
        "# 시계열 데이터 준비\n",
        "ts_data = df.groupby('Planned_Finish')['Delay_Days'].mean()\n",
        "\n",
        "# ARIMA 모델 학습\n",
        "model = ARIMA(ts_data, order=(1,1,1))\n",
        "model_fit = model.fit()\n",
        "\n",
        "# 예측\n",
        "forecast = model_fit.forecast(steps=10)\n",
        "print(forecast)"
      ],
      "metadata": {
        "id": "QbWr3ophjOGG"
      },
      "execution_count": null,
      "outputs": []
    },
    {
      "cell_type": "code",
      "source": [
        "# 2: Prophet 모델 학습\n",
        "from prophet import Prophet\n",
        "\n",
        "# Prophet 데이터 준비\n",
        "prophet_df = df[['Planned_Finish', 'Delay_Days']].rename(columns={'Planned_Finish': 'ds', 'Delay_Days': 'y'})\n",
        "\n",
        "# 모델 학습\n",
        "model = Prophet()\n",
        "model.fit(prophet_df)\n",
        "\n",
        "# 예측\n",
        "future = model.make_future_dataframe(periods=30)\n",
        "forecast = model.predict(future)\n",
        "\n",
        "# 결과 시각화\n",
        "model.plot(forecast)\n",
        "plt.show()"
      ],
      "metadata": {
        "id": "RtXEH7ehjU8Y"
      },
      "execution_count": null,
      "outputs": []
    },
    {
      "cell_type": "markdown",
      "source": [
        "초기 구글 코렙으로 작업시 마운트 후 확인하기\n",
        "\n",
        "새로운 폴더를 만들어줬을경우 아래작업 필요\n",
        "![img.png](data:image/png;base64,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)![img (1).png](data:image/png;base64,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)\n"
      ],
      "metadata": {
        "id": "ZGySp3nL0Xh6"
      }
    },
    {
      "cell_type": "code",
      "source": [
        "from google.colab import drive\n",
        "drive.mount('/content/drive')\n",
        "# Google Drive가 제대로 마운트되었는지 확인\n",
        "!ls /content/drive"
      ],
      "metadata": {
        "colab": {
          "base_uri": "https://localhost:8080/"
        },
        "id": "RLMOGhBptouF",
        "outputId": "9d1cbf42-e867-4238-e56a-dc3d81dc480f"
      },
      "execution_count": 10,
      "outputs": [
        {
          "output_type": "stream",
          "name": "stdout",
          "text": [
            "Drive already mounted at /content/drive; to attempt to forcibly remount, call drive.mount(\"/content/drive\", force_remount=True).\n",
            "MyDrive\n"
          ]
        }
      ]
    },
    {
      "cell_type": "code",
      "source": [
        "import os\n",
        "\n",
        "# XER 파일이 저장된 폴더 경로\n",
        "xer_directory = \"/content/drive/MyDrive/XER\"\n",
        "\n",
        "# 폴더 내 파일 리스트 확인\n",
        "if os.path.exists(xer_directory):\n",
        "    print(\"XER 폴더 내 파일 목록:\")\n",
        "    for file in os.listdir(xer_directory):\n",
        "        print(file)  # 파일명을 하나씩 출력\n",
        "else:\n",
        "    print(\"XER 폴더가 존재하지 않습니다. Google Drive 마운트 여부를 확인하세요.\")"
      ],
      "metadata": {
        "colab": {
          "base_uri": "https://localhost:8080/"
        },
        "id": "ajDIot9uuWB4",
        "outputId": "00dc0f86-68ab-47d8-bf5c-1f6cb88dee87"
      },
      "execution_count": 11,
      "outputs": [
        {
          "output_type": "stream",
          "name": "stdout",
          "text": [
            "XER 폴더 내 파일 목록:\n",
            "MPR13-1.xer\n",
            "0407.xer\n",
            "VP1_L4 Sch_0707.xer\n",
            "VP1-C-EPC-G-GEN-00005 Project Schedule (MPR of Feb-23).xer\n",
            "A2 Base Line 04 march 2017.xer\n",
            "PKLI_Preliminary Schedule_rev.A.xer\n",
            "A2 Actual update 04 march 2017.xer\n"
          ]
        }
      ]
    },
    {
      "cell_type": "code",
      "source": [
        "# XER 파일을 특정 구분자를 기준으로 읽어서 Pandas에서 처리\n",
        "import pandas as pd\n",
        "\n",
        "# XER 파일 경로 설정\n",
        "xer_file_path = \"/content/drive/MyDrive/XER/A2 Base Line 04 march 2017.xer\"\n",
        "\n",
        "# 'latin1' 인코딩으로 파일 읽기\n",
        "with open(xer_file_path, \"r\", encoding=\"latin1\") as file:\n",
        "    lines = file.readlines()\n",
        "\n",
        "# 데이터 확인 (처음 몇 줄 출력)\n",
        "for i in range(10):\n",
        "    print(lines[i])  # XER 파일의 구조 확인\n",
        "\n",
        "# 특정 구분자를 기준으로 데이터프레임으로 변환 (예: 탭으로 구분)\n",
        "df = pd.DataFrame([line.strip().split(\"\\t\") for line in lines])\n",
        "\n",
        "# CSV로 저장\n",
        "csv_file_path = \"/content/drive/MyDrive/XER/A2_Base_Line_04_March_2017.csv\"\n",
        "df.to_csv(csv_file_path, index=False)\n",
        "\n",
        "print(\"XER 파일을 CSV로 변환 완료:\", csv_file_path)"
      ],
      "metadata": {
        "colab": {
          "base_uri": "https://localhost:8080/"
        },
        "id": "WM3uplcLj40s",
        "outputId": "5f50632d-d22f-465b-9d82-c41edc078aa0"
      },
      "execution_count": 13,
      "outputs": [
        {
          "output_type": "stream",
          "name": "stdout",
          "text": [
            "ERMHDR\t6.1\t2017-04-05\tProject\tadmin\tuni build\tdbxDatabaseNoName\tProject Management\tPKR\n",
            "\n",
            "%T\tCURRTYPE\n",
            "\n",
            "%F\tcurr_id\tdecimal_digit_cnt\tcurr_symbol\tdecimal_symbol\tdigit_group_symbol\tpos_curr_fmt_type\tneg_curr_fmt_type\tcurr_type\tcurr_short_name\tgroup_digit_cnt\tbase_exch_rate\n",
            "\n",
            "%R\t1\t2\t$\t.\t,\t#1.1\t(#1.1)\tUS Dollar\tUSD\t3\t1\n",
            "\n",
            "%R\t13\t2\t£\t.\t,\t#1.1\t(#1.1)\tPound Sterling\tGBP\t3\t0.618603\n",
            "\n",
            "%R\t14\t2\t¥\t.\t,\t#1.1\t(#1.1)\tJapanese Yen\tJPY\t3\t91.2708\n",
            "\n",
            "%R\t15\t2\t\t.\t,\t#1.1\t(#1.1)\tEuro\tEUR\t3\t0.689711\n",
            "\n",
            "%R\t16\t2\t¥\t.\t,\t#1.1\t(#1.1)\tChinese Yuan Renminbi\tCNY\t3\t6.82502\n",
            "\n",
            "%R\t17\t2\t$\t.\t,\t#1.1\t(#1.1)\tCanadian Dollar\tCAD\t3\t1.03757\n",
            "\n",
            "%R\t18\t2\tRUB\t.\t,\t#1.1\t(#1.1)\tRussian Ruble\tRUB\t3\t0.033948\n",
            "\n",
            "XER 파일을 CSV로 변환 완료: /content/drive/MyDrive/XER/A2_Base_Line_04_March_2017.csv\n"
          ]
        }
      ]
    },
    {
      "cell_type": "code",
      "source": [
        "# 다른 방법 시행\n",
        "# XER 파일 경로 설정\n",
        "xer_file_path = \"/content/drive/MyDrive/XER/A2 Base Line 04 march 2017.xer\"\n",
        "\n",
        "# UTF-8 인코딩 사용, 오류 발생 시 대체 문자로 처리\n",
        "with open(xer_file_path, \"r\", encoding=\"utf-8\", errors=\"replace\") as file:\n",
        "    lines = file.readlines()\n",
        "\n",
        "# 데이터 확인 (처음 몇 줄 출력)\n",
        "for i in range(10):\n",
        "    print(lines[i])  # XER 파일의 구조 확인\n",
        "\n",
        "# 특정 구분자를 기준으로 데이터프레임으로 변환 (예: 탭으로 구분)\n",
        "df = pd.DataFrame([line.strip().split(\"\\t\") for line in lines])\n",
        "\n",
        "# CSV로 저장\n",
        "csv_file_path = \"/content/drive/MyDrive/XER/A2_Base_Line_04_March_2017_02.csv\"\n",
        "df.to_csv(csv_file_path, index=False)\n",
        "\n",
        "print(\"XER 파일을 CSV로 변환 완료:\", csv_file_path)"
      ],
      "metadata": {
        "colab": {
          "base_uri": "https://localhost:8080/"
        },
        "id": "rmB4KI5rwHIP",
        "outputId": "e274ceb0-6076-4635-b9b3-6dfaca1803b9"
      },
      "execution_count": 14,
      "outputs": [
        {
          "output_type": "stream",
          "name": "stdout",
          "text": [
            "ERMHDR\t6.1\t2017-04-05\tProject\tadmin\tuni build\tdbxDatabaseNoName\tProject Management\tPKR\n",
            "\n",
            "%T\tCURRTYPE\n",
            "\n",
            "%F\tcurr_id\tdecimal_digit_cnt\tcurr_symbol\tdecimal_symbol\tdigit_group_symbol\tpos_curr_fmt_type\tneg_curr_fmt_type\tcurr_type\tcurr_short_name\tgroup_digit_cnt\tbase_exch_rate\n",
            "\n",
            "%R\t1\t2\t$\t.\t,\t#1.1\t(#1.1)\tUS Dollar\tUSD\t3\t1\n",
            "\n",
            "%R\t13\t2\t�\t.\t,\t#1.1\t(#1.1)\tPound Sterling\tGBP\t3\t0.618603\n",
            "\n",
            "%R\t14\t2\t�\t.\t,\t#1.1\t(#1.1)\tJapanese Yen\tJPY\t3\t91.2708\n",
            "\n",
            "%R\t15\t2\t�\t.\t,\t#1.1\t(#1.1)\tEuro\tEUR\t3\t0.689711\n",
            "\n",
            "%R\t16\t2\t�\t.\t,\t#1.1\t(#1.1)\tChinese Yuan Renminbi\tCNY\t3\t6.82502\n",
            "\n",
            "%R\t17\t2\t$\t.\t,\t#1.1\t(#1.1)\tCanadian Dollar\tCAD\t3\t1.03757\n",
            "\n",
            "%R\t18\t2\tRUB\t.\t,\t#1.1\t(#1.1)\tRussian Ruble\tRUB\t3\t0.033948\n",
            "\n",
            "XER 파일을 CSV로 변환 완료: /content/drive/MyDrive/XER/A2_Base_Line_04_March_2017_02.csv\n"
          ]
        }
      ]
    },
    {
      "cell_type": "code",
      "source": [
        "# CSV 파일 경로\n",
        "csv_file_path = \"/content/drive/MyDrive/XER/A2_Base_Line_04_March_2017_02.csv\"\n",
        "\n",
        "# CSV 파일 읽기 (기본 인코딩은 utf-8)\n",
        "df = pd.read_csv(csv_file_path)\n",
        "\n",
        "# DataFrame의 상위 5개 행 출력하여 데이터 확인\n",
        "print(df.head())"
      ],
      "metadata": {
        "colab": {
          "base_uri": "https://localhost:8080/"
        },
        "id": "Twrt_e8owqJA",
        "outputId": "b7f7b563-f758-4ac9-e51b-6f66ad0437ad"
      },
      "execution_count": 15,
      "outputs": [
        {
          "output_type": "stream",
          "name": "stdout",
          "text": [
            "        0         1                  2            3               4  \\\n",
            "0  ERMHDR       6.1         2017-04-05      Project           admin   \n",
            "1      %T  CURRTYPE                NaN          NaN             NaN   \n",
            "2      %F   curr_id  decimal_digit_cnt  curr_symbol  decimal_symbol   \n",
            "3      %R         1                  2            $               .   \n",
            "4      %R        13                  2            �               .   \n",
            "\n",
            "                    5                  6                   7               8  \\\n",
            "0           uni build  dbxDatabaseNoName  Project Management             PKR   \n",
            "1                 NaN                NaN                 NaN             NaN   \n",
            "2  digit_group_symbol  pos_curr_fmt_type   neg_curr_fmt_type       curr_type   \n",
            "3                   ,               #1.1              (#1.1)       US Dollar   \n",
            "4                   ,               #1.1              (#1.1)  Pound Sterling   \n",
            "\n",
            "                 9  ...   59   60   61   62   63   64   65   66   67   68  \n",
            "0              NaN  ...  NaN  NaN  NaN  NaN  NaN  NaN  NaN  NaN  NaN  NaN  \n",
            "1              NaN  ...  NaN  NaN  NaN  NaN  NaN  NaN  NaN  NaN  NaN  NaN  \n",
            "2  curr_short_name  ...  NaN  NaN  NaN  NaN  NaN  NaN  NaN  NaN  NaN  NaN  \n",
            "3              USD  ...  NaN  NaN  NaN  NaN  NaN  NaN  NaN  NaN  NaN  NaN  \n",
            "4              GBP  ...  NaN  NaN  NaN  NaN  NaN  NaN  NaN  NaN  NaN  NaN  \n",
            "\n",
            "[5 rows x 69 columns]\n"
          ]
        },
        {
          "output_type": "stream",
          "name": "stderr",
          "text": [
            "<ipython-input-15-fed16426015c>:5: DtypeWarning: Columns (8,9,10,11,12,13,14,15,16,17,18,19,20,21,22,23,24,25,33,34,35,39,40,41,46,47,48,49,50,51,52,53,54,55,56,57,58,59,60,61,62,63,64,65,66,67,68) have mixed types. Specify dtype option on import or set low_memory=False.\n",
            "  df = pd.read_csv(csv_file_path)\n"
          ]
        }
      ]
    },
    {
      "cell_type": "markdown",
      "source": [
        "첫 번째 코드 (print(df.head())):\n",
        "\n",
        "파이썬의 내장 함수인 print()를 사용하여 DataFrame의 상위 5개 행을 텍스트 형태로 출력합니다.\n",
        "\n",
        "결과가 단순한 텍스트 문자열로 나타나기 때문에 가독성이 떨어질 수 있습니다.\n",
        "\n",
        "두 번째 코드 (display(df.head())):\n",
        "\n",
        "IPython의 display() 함수를 사용하여 DataFrame의 상위 5개 행을 출력합니다.\n",
        "\n",
        "Jupyter Notebook이나 Colab과 같은 환경에서 실행하면, HTML 형식의 표로 예쁘게 렌더링되어 보여집니다.\n",
        "\n",
        "데이터프레임의 컬럼과 행이 잘 정렬되어 출력되어 가독성이 좋습니다."
      ],
      "metadata": {
        "id": "2MYllbhZz6o-"
      }
    },
    {
      "cell_type": "code",
      "source": [
        "import pandas as pd\n",
        "from IPython.display import display\n",
        "\n",
        "# CSV 파일 경로 설정\n",
        "csv_file_path = \"/content/drive/MyDrive/XER/A2_Base_Line_04_March_2017_02.csv\"\n",
        "\n",
        "# CSV 파일을 DataFrame으로 읽기\n",
        "df = pd.read_csv(csv_file_path)\n",
        "\n",
        "# DataFrame을 출력하여 확인 (Jupyter/Colab 환경에서 표 형태로 보여짐)\n",
        "display(df.head())  # 상위 5개 행 출력"
      ],
      "metadata": {
        "colab": {
          "base_uri": "https://localhost:8080/",
          "height": 344
        },
        "id": "zmlPYRBOxKSW",
        "outputId": "0e72f285-fe4e-468a-b63d-a3ccaa55284b"
      },
      "execution_count": 16,
      "outputs": [
        {
          "output_type": "stream",
          "name": "stderr",
          "text": [
            "<ipython-input-16-aec08de8bb31>:8: DtypeWarning: Columns (8,9,10,11,12,13,14,15,16,17,18,19,20,21,22,23,24,25,33,34,35,39,40,41,46,47,48,49,50,51,52,53,54,55,56,57,58,59,60,61,62,63,64,65,66,67,68) have mixed types. Specify dtype option on import or set low_memory=False.\n",
            "  df = pd.read_csv(csv_file_path)\n"
          ]
        },
        {
          "output_type": "display_data",
          "data": {
            "text/plain": [
              "        0         1                  2            3               4  \\\n",
              "0  ERMHDR       6.1         2017-04-05      Project           admin   \n",
              "1      %T  CURRTYPE                NaN          NaN             NaN   \n",
              "2      %F   curr_id  decimal_digit_cnt  curr_symbol  decimal_symbol   \n",
              "3      %R         1                  2            $               .   \n",
              "4      %R        13                  2            �               .   \n",
              "\n",
              "                    5                  6                   7               8  \\\n",
              "0           uni build  dbxDatabaseNoName  Project Management             PKR   \n",
              "1                 NaN                NaN                 NaN             NaN   \n",
              "2  digit_group_symbol  pos_curr_fmt_type   neg_curr_fmt_type       curr_type   \n",
              "3                   ,               #1.1              (#1.1)       US Dollar   \n",
              "4                   ,               #1.1              (#1.1)  Pound Sterling   \n",
              "\n",
              "                 9  ...   59   60   61   62   63   64   65   66   67   68  \n",
              "0              NaN  ...  NaN  NaN  NaN  NaN  NaN  NaN  NaN  NaN  NaN  NaN  \n",
              "1              NaN  ...  NaN  NaN  NaN  NaN  NaN  NaN  NaN  NaN  NaN  NaN  \n",
              "2  curr_short_name  ...  NaN  NaN  NaN  NaN  NaN  NaN  NaN  NaN  NaN  NaN  \n",
              "3              USD  ...  NaN  NaN  NaN  NaN  NaN  NaN  NaN  NaN  NaN  NaN  \n",
              "4              GBP  ...  NaN  NaN  NaN  NaN  NaN  NaN  NaN  NaN  NaN  NaN  \n",
              "\n",
              "[5 rows x 69 columns]"
            ],
            "text/html": [
              "\n",
              "  <div id=\"df-b8f10ba0-b865-4771-9703-403dfa77b201\" class=\"colab-df-container\">\n",
              "    <div>\n",
              "<style scoped>\n",
              "    .dataframe tbody tr th:only-of-type {\n",
              "        vertical-align: middle;\n",
              "    }\n",
              "\n",
              "    .dataframe tbody tr th {\n",
              "        vertical-align: top;\n",
              "    }\n",
              "\n",
              "    .dataframe thead th {\n",
              "        text-align: right;\n",
              "    }\n",
              "</style>\n",
              "<table border=\"1\" class=\"dataframe\">\n",
              "  <thead>\n",
              "    <tr style=\"text-align: right;\">\n",
              "      <th></th>\n",
              "      <th>0</th>\n",
              "      <th>1</th>\n",
              "      <th>2</th>\n",
              "      <th>3</th>\n",
              "      <th>4</th>\n",
              "      <th>5</th>\n",
              "      <th>6</th>\n",
              "      <th>7</th>\n",
              "      <th>8</th>\n",
              "      <th>9</th>\n",
              "      <th>...</th>\n",
              "      <th>59</th>\n",
              "      <th>60</th>\n",
              "      <th>61</th>\n",
              "      <th>62</th>\n",
              "      <th>63</th>\n",
              "      <th>64</th>\n",
              "      <th>65</th>\n",
              "      <th>66</th>\n",
              "      <th>67</th>\n",
              "      <th>68</th>\n",
              "    </tr>\n",
              "  </thead>\n",
              "  <tbody>\n",
              "    <tr>\n",
              "      <th>0</th>\n",
              "      <td>ERMHDR</td>\n",
              "      <td>6.1</td>\n",
              "      <td>2017-04-05</td>\n",
              "      <td>Project</td>\n",
              "      <td>admin</td>\n",
              "      <td>uni build</td>\n",
              "      <td>dbxDatabaseNoName</td>\n",
              "      <td>Project Management</td>\n",
              "      <td>PKR</td>\n",
              "      <td>NaN</td>\n",
              "      <td>...</td>\n",
              "      <td>NaN</td>\n",
              "      <td>NaN</td>\n",
              "      <td>NaN</td>\n",
              "      <td>NaN</td>\n",
              "      <td>NaN</td>\n",
              "      <td>NaN</td>\n",
              "      <td>NaN</td>\n",
              "      <td>NaN</td>\n",
              "      <td>NaN</td>\n",
              "      <td>NaN</td>\n",
              "    </tr>\n",
              "    <tr>\n",
              "      <th>1</th>\n",
              "      <td>%T</td>\n",
              "      <td>CURRTYPE</td>\n",
              "      <td>NaN</td>\n",
              "      <td>NaN</td>\n",
              "      <td>NaN</td>\n",
              "      <td>NaN</td>\n",
              "      <td>NaN</td>\n",
              "      <td>NaN</td>\n",
              "      <td>NaN</td>\n",
              "      <td>NaN</td>\n",
              "      <td>...</td>\n",
              "      <td>NaN</td>\n",
              "      <td>NaN</td>\n",
              "      <td>NaN</td>\n",
              "      <td>NaN</td>\n",
              "      <td>NaN</td>\n",
              "      <td>NaN</td>\n",
              "      <td>NaN</td>\n",
              "      <td>NaN</td>\n",
              "      <td>NaN</td>\n",
              "      <td>NaN</td>\n",
              "    </tr>\n",
              "    <tr>\n",
              "      <th>2</th>\n",
              "      <td>%F</td>\n",
              "      <td>curr_id</td>\n",
              "      <td>decimal_digit_cnt</td>\n",
              "      <td>curr_symbol</td>\n",
              "      <td>decimal_symbol</td>\n",
              "      <td>digit_group_symbol</td>\n",
              "      <td>pos_curr_fmt_type</td>\n",
              "      <td>neg_curr_fmt_type</td>\n",
              "      <td>curr_type</td>\n",
              "      <td>curr_short_name</td>\n",
              "      <td>...</td>\n",
              "      <td>NaN</td>\n",
              "      <td>NaN</td>\n",
              "      <td>NaN</td>\n",
              "      <td>NaN</td>\n",
              "      <td>NaN</td>\n",
              "      <td>NaN</td>\n",
              "      <td>NaN</td>\n",
              "      <td>NaN</td>\n",
              "      <td>NaN</td>\n",
              "      <td>NaN</td>\n",
              "    </tr>\n",
              "    <tr>\n",
              "      <th>3</th>\n",
              "      <td>%R</td>\n",
              "      <td>1</td>\n",
              "      <td>2</td>\n",
              "      <td>$</td>\n",
              "      <td>.</td>\n",
              "      <td>,</td>\n",
              "      <td>#1.1</td>\n",
              "      <td>(#1.1)</td>\n",
              "      <td>US Dollar</td>\n",
              "      <td>USD</td>\n",
              "      <td>...</td>\n",
              "      <td>NaN</td>\n",
              "      <td>NaN</td>\n",
              "      <td>NaN</td>\n",
              "      <td>NaN</td>\n",
              "      <td>NaN</td>\n",
              "      <td>NaN</td>\n",
              "      <td>NaN</td>\n",
              "      <td>NaN</td>\n",
              "      <td>NaN</td>\n",
              "      <td>NaN</td>\n",
              "    </tr>\n",
              "    <tr>\n",
              "      <th>4</th>\n",
              "      <td>%R</td>\n",
              "      <td>13</td>\n",
              "      <td>2</td>\n",
              "      <td>�</td>\n",
              "      <td>.</td>\n",
              "      <td>,</td>\n",
              "      <td>#1.1</td>\n",
              "      <td>(#1.1)</td>\n",
              "      <td>Pound Sterling</td>\n",
              "      <td>GBP</td>\n",
              "      <td>...</td>\n",
              "      <td>NaN</td>\n",
              "      <td>NaN</td>\n",
              "      <td>NaN</td>\n",
              "      <td>NaN</td>\n",
              "      <td>NaN</td>\n",
              "      <td>NaN</td>\n",
              "      <td>NaN</td>\n",
              "      <td>NaN</td>\n",
              "      <td>NaN</td>\n",
              "      <td>NaN</td>\n",
              "    </tr>\n",
              "  </tbody>\n",
              "</table>\n",
              "<p>5 rows × 69 columns</p>\n",
              "</div>\n",
              "    <div class=\"colab-df-buttons\">\n",
              "\n",
              "  <div class=\"colab-df-container\">\n",
              "    <button class=\"colab-df-convert\" onclick=\"convertToInteractive('df-b8f10ba0-b865-4771-9703-403dfa77b201')\"\n",
              "            title=\"Convert this dataframe to an interactive table.\"\n",
              "            style=\"display:none;\">\n",
              "\n",
              "  <svg xmlns=\"http://www.w3.org/2000/svg\" height=\"24px\" viewBox=\"0 -960 960 960\">\n",
              "    <path d=\"M120-120v-720h720v720H120Zm60-500h600v-160H180v160Zm220 220h160v-160H400v160Zm0 220h160v-160H400v160ZM180-400h160v-160H180v160Zm440 0h160v-160H620v160ZM180-180h160v-160H180v160Zm440 0h160v-160H620v160Z\"/>\n",
              "  </svg>\n",
              "    </button>\n",
              "\n",
              "  <style>\n",
              "    .colab-df-container {\n",
              "      display:flex;\n",
              "      gap: 12px;\n",
              "    }\n",
              "\n",
              "    .colab-df-convert {\n",
              "      background-color: #E8F0FE;\n",
              "      border: none;\n",
              "      border-radius: 50%;\n",
              "      cursor: pointer;\n",
              "      display: none;\n",
              "      fill: #1967D2;\n",
              "      height: 32px;\n",
              "      padding: 0 0 0 0;\n",
              "      width: 32px;\n",
              "    }\n",
              "\n",
              "    .colab-df-convert:hover {\n",
              "      background-color: #E2EBFA;\n",
              "      box-shadow: 0px 1px 2px rgba(60, 64, 67, 0.3), 0px 1px 3px 1px rgba(60, 64, 67, 0.15);\n",
              "      fill: #174EA6;\n",
              "    }\n",
              "\n",
              "    .colab-df-buttons div {\n",
              "      margin-bottom: 4px;\n",
              "    }\n",
              "\n",
              "    [theme=dark] .colab-df-convert {\n",
              "      background-color: #3B4455;\n",
              "      fill: #D2E3FC;\n",
              "    }\n",
              "\n",
              "    [theme=dark] .colab-df-convert:hover {\n",
              "      background-color: #434B5C;\n",
              "      box-shadow: 0px 1px 3px 1px rgba(0, 0, 0, 0.15);\n",
              "      filter: drop-shadow(0px 1px 2px rgba(0, 0, 0, 0.3));\n",
              "      fill: #FFFFFF;\n",
              "    }\n",
              "  </style>\n",
              "\n",
              "    <script>\n",
              "      const buttonEl =\n",
              "        document.querySelector('#df-b8f10ba0-b865-4771-9703-403dfa77b201 button.colab-df-convert');\n",
              "      buttonEl.style.display =\n",
              "        google.colab.kernel.accessAllowed ? 'block' : 'none';\n",
              "\n",
              "      async function convertToInteractive(key) {\n",
              "        const element = document.querySelector('#df-b8f10ba0-b865-4771-9703-403dfa77b201');\n",
              "        const dataTable =\n",
              "          await google.colab.kernel.invokeFunction('convertToInteractive',\n",
              "                                                    [key], {});\n",
              "        if (!dataTable) return;\n",
              "\n",
              "        const docLinkHtml = 'Like what you see? Visit the ' +\n",
              "          '<a target=\"_blank\" href=https://colab.research.google.com/notebooks/data_table.ipynb>data table notebook</a>'\n",
              "          + ' to learn more about interactive tables.';\n",
              "        element.innerHTML = '';\n",
              "        dataTable['output_type'] = 'display_data';\n",
              "        await google.colab.output.renderOutput(dataTable, element);\n",
              "        const docLink = document.createElement('div');\n",
              "        docLink.innerHTML = docLinkHtml;\n",
              "        element.appendChild(docLink);\n",
              "      }\n",
              "    </script>\n",
              "  </div>\n",
              "\n",
              "\n",
              "<div id=\"df-83301d7b-e8fe-4311-96ae-ae3127e359eb\">\n",
              "  <button class=\"colab-df-quickchart\" onclick=\"quickchart('df-83301d7b-e8fe-4311-96ae-ae3127e359eb')\"\n",
              "            title=\"Suggest charts\"\n",
              "            style=\"display:none;\">\n",
              "\n",
              "<svg xmlns=\"http://www.w3.org/2000/svg\" height=\"24px\"viewBox=\"0 0 24 24\"\n",
              "     width=\"24px\">\n",
              "    <g>\n",
              "        <path d=\"M19 3H5c-1.1 0-2 .9-2 2v14c0 1.1.9 2 2 2h14c1.1 0 2-.9 2-2V5c0-1.1-.9-2-2-2zM9 17H7v-7h2v7zm4 0h-2V7h2v10zm4 0h-2v-4h2v4z\"/>\n",
              "    </g>\n",
              "</svg>\n",
              "  </button>\n",
              "\n",
              "<style>\n",
              "  .colab-df-quickchart {\n",
              "      --bg-color: #E8F0FE;\n",
              "      --fill-color: #1967D2;\n",
              "      --hover-bg-color: #E2EBFA;\n",
              "      --hover-fill-color: #174EA6;\n",
              "      --disabled-fill-color: #AAA;\n",
              "      --disabled-bg-color: #DDD;\n",
              "  }\n",
              "\n",
              "  [theme=dark] .colab-df-quickchart {\n",
              "      --bg-color: #3B4455;\n",
              "      --fill-color: #D2E3FC;\n",
              "      --hover-bg-color: #434B5C;\n",
              "      --hover-fill-color: #FFFFFF;\n",
              "      --disabled-bg-color: #3B4455;\n",
              "      --disabled-fill-color: #666;\n",
              "  }\n",
              "\n",
              "  .colab-df-quickchart {\n",
              "    background-color: var(--bg-color);\n",
              "    border: none;\n",
              "    border-radius: 50%;\n",
              "    cursor: pointer;\n",
              "    display: none;\n",
              "    fill: var(--fill-color);\n",
              "    height: 32px;\n",
              "    padding: 0;\n",
              "    width: 32px;\n",
              "  }\n",
              "\n",
              "  .colab-df-quickchart:hover {\n",
              "    background-color: var(--hover-bg-color);\n",
              "    box-shadow: 0 1px 2px rgba(60, 64, 67, 0.3), 0 1px 3px 1px rgba(60, 64, 67, 0.15);\n",
              "    fill: var(--button-hover-fill-color);\n",
              "  }\n",
              "\n",
              "  .colab-df-quickchart-complete:disabled,\n",
              "  .colab-df-quickchart-complete:disabled:hover {\n",
              "    background-color: var(--disabled-bg-color);\n",
              "    fill: var(--disabled-fill-color);\n",
              "    box-shadow: none;\n",
              "  }\n",
              "\n",
              "  .colab-df-spinner {\n",
              "    border: 2px solid var(--fill-color);\n",
              "    border-color: transparent;\n",
              "    border-bottom-color: var(--fill-color);\n",
              "    animation:\n",
              "      spin 1s steps(1) infinite;\n",
              "  }\n",
              "\n",
              "  @keyframes spin {\n",
              "    0% {\n",
              "      border-color: transparent;\n",
              "      border-bottom-color: var(--fill-color);\n",
              "      border-left-color: var(--fill-color);\n",
              "    }\n",
              "    20% {\n",
              "      border-color: transparent;\n",
              "      border-left-color: var(--fill-color);\n",
              "      border-top-color: var(--fill-color);\n",
              "    }\n",
              "    30% {\n",
              "      border-color: transparent;\n",
              "      border-left-color: var(--fill-color);\n",
              "      border-top-color: var(--fill-color);\n",
              "      border-right-color: var(--fill-color);\n",
              "    }\n",
              "    40% {\n",
              "      border-color: transparent;\n",
              "      border-right-color: var(--fill-color);\n",
              "      border-top-color: var(--fill-color);\n",
              "    }\n",
              "    60% {\n",
              "      border-color: transparent;\n",
              "      border-right-color: var(--fill-color);\n",
              "    }\n",
              "    80% {\n",
              "      border-color: transparent;\n",
              "      border-right-color: var(--fill-color);\n",
              "      border-bottom-color: var(--fill-color);\n",
              "    }\n",
              "    90% {\n",
              "      border-color: transparent;\n",
              "      border-bottom-color: var(--fill-color);\n",
              "    }\n",
              "  }\n",
              "</style>\n",
              "\n",
              "  <script>\n",
              "    async function quickchart(key) {\n",
              "      const quickchartButtonEl =\n",
              "        document.querySelector('#' + key + ' button');\n",
              "      quickchartButtonEl.disabled = true;  // To prevent multiple clicks.\n",
              "      quickchartButtonEl.classList.add('colab-df-spinner');\n",
              "      try {\n",
              "        const charts = await google.colab.kernel.invokeFunction(\n",
              "            'suggestCharts', [key], {});\n",
              "      } catch (error) {\n",
              "        console.error('Error during call to suggestCharts:', error);\n",
              "      }\n",
              "      quickchartButtonEl.classList.remove('colab-df-spinner');\n",
              "      quickchartButtonEl.classList.add('colab-df-quickchart-complete');\n",
              "    }\n",
              "    (() => {\n",
              "      let quickchartButtonEl =\n",
              "        document.querySelector('#df-83301d7b-e8fe-4311-96ae-ae3127e359eb button');\n",
              "      quickchartButtonEl.style.display =\n",
              "        google.colab.kernel.accessAllowed ? 'block' : 'none';\n",
              "    })();\n",
              "  </script>\n",
              "</div>\n",
              "\n",
              "    </div>\n",
              "  </div>\n"
            ],
            "application/vnd.google.colaboratory.intrinsic+json": {
              "type": "dataframe"
            }
          },
          "metadata": {}
        }
      ]
    }
  ]
}